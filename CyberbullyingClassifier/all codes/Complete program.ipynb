{
 "cells": [
  {
   "cell_type": "code",
   "execution_count": 1,
   "id": "cdd720db",
   "metadata": {},
   "outputs": [],
   "source": [
    "# imports\n",
    "\n",
    "import pandas as pd \n",
    "import nltk\n",
    "import re\n",
    "import matplotlib.pyplot as plt\n",
    "import numpy as np\n",
    "import sklearn\n",
    "\n",
    "# data preprocessing\n",
    "from nltk.tokenize import word_tokenize\n",
    "from nltk.corpus import stopwords\n",
    "from nltk.stem import wordnet \n",
    "from nltk.stem import WordNetLemmatizer\n",
    "from nltk.corpus import wordnet\n",
    "\n",
    "# TextBlob to label text\n",
    "from textblob import TextBlob\n",
    "\n",
    "# split data \n",
    "from sklearn.model_selection import train_test_split\n",
    "\n",
    "# change text to numerical form\n",
    "from sklearn.feature_extraction.text import CountVectorizer\n",
    "\n",
    "# training the mode\n",
    "from sklearn import model_selection\n",
    "from sklearn import svm\n",
    "\n",
    "# to evaluate the results of the models\n",
    "from sklearn import metrics\n",
    "import seaborn as sns\n",
    "from sklearn.metrics import confusion_matrix\n",
    "from sklearn.metrics import classification_report\n",
    "from sklearn.metrics import accuracy_score\n",
    "from sklearn.model_selection import cross_val_predict\n",
    "\n",
    "# to find the best parameter\n",
    "from sklearn.pipeline import Pipeline\n",
    "from sklearn import set_config\n",
    "\n",
    "# to save the pipeline \n",
    "from joblib import dump\n",
    "from joblib import load"
   ]
  },
  {
   "cell_type": "code",
   "execution_count": 2,
   "id": "fbade4a7",
   "metadata": {},
   "outputs": [],
   "source": [
    "# read the original dataset \n",
    "df = pd.read_csv(\"cyberbullying_tweets.csv\")\n",
    "\n",
    "#to set the column width to maximum \n",
    "pd.set_option('display.max_colwidth',150)"
   ]
  },
  {
   "cell_type": "code",
   "execution_count": 3,
   "id": "9b5b1faa",
   "metadata": {},
   "outputs": [],
   "source": [
    "# drop this column because will label it using TextBlob\n",
    "df.drop([\"cyberbullying_type\"], axis = 1, inplace = True)"
   ]
  },
  {
   "cell_type": "code",
   "execution_count": 4,
   "id": "eab1e404",
   "metadata": {},
   "outputs": [
    {
     "data": {
      "text/html": [
       "<div>\n",
       "<style scoped>\n",
       "    .dataframe tbody tr th:only-of-type {\n",
       "        vertical-align: middle;\n",
       "    }\n",
       "\n",
       "    .dataframe tbody tr th {\n",
       "        vertical-align: top;\n",
       "    }\n",
       "\n",
       "    .dataframe thead th {\n",
       "        text-align: right;\n",
       "    }\n",
       "</style>\n",
       "<table border=\"1\" class=\"dataframe\">\n",
       "  <thead>\n",
       "    <tr style=\"text-align: right;\">\n",
       "      <th></th>\n",
       "      <th>tweet_text</th>\n",
       "    </tr>\n",
       "  </thead>\n",
       "  <tbody>\n",
       "    <tr>\n",
       "      <th>0</th>\n",
       "      <td>In other words #katandandre, your food was crapilicious! #mkr</td>\n",
       "    </tr>\n",
       "    <tr>\n",
       "      <th>1</th>\n",
       "      <td>Why is #aussietv so white? #MKR #theblock #ImACelebrityAU #today #sunrise #studio10 #Neighbours #WonderlandTen #etc</td>\n",
       "    </tr>\n",
       "    <tr>\n",
       "      <th>2</th>\n",
       "      <td>@XochitlSuckkks a classy whore? Or more red velvet cupcakes?</td>\n",
       "    </tr>\n",
       "    <tr>\n",
       "      <th>3</th>\n",
       "      <td>@Jason_Gio meh. :P  thanks for the heads up, but not too concerned about another angry dude on twitter.</td>\n",
       "    </tr>\n",
       "    <tr>\n",
       "      <th>4</th>\n",
       "      <td>@RudhoeEnglish This is an ISIS account pretending to be a Kurdish account.  Like Islam, it is all lies.</td>\n",
       "    </tr>\n",
       "  </tbody>\n",
       "</table>\n",
       "</div>"
      ],
      "text/plain": [
       "                                                                                                            tweet_text\n",
       "0                                                        In other words #katandandre, your food was crapilicious! #mkr\n",
       "1  Why is #aussietv so white? #MKR #theblock #ImACelebrityAU #today #sunrise #studio10 #Neighbours #WonderlandTen #etc\n",
       "2                                                         @XochitlSuckkks a classy whore? Or more red velvet cupcakes?\n",
       "3              @Jason_Gio meh. :P  thanks for the heads up, but not too concerned about another angry dude on twitter.\n",
       "4              @RudhoeEnglish This is an ISIS account pretending to be a Kurdish account.  Like Islam, it is all lies."
      ]
     },
     "execution_count": 4,
     "metadata": {},
     "output_type": "execute_result"
    }
   ],
   "source": [
    "df.head()"
   ]
  },
  {
   "cell_type": "code",
   "execution_count": 5,
   "id": "3cf3a259",
   "metadata": {},
   "outputs": [
    {
     "data": {
      "text/plain": [
       "tweet_text    0\n",
       "dtype: int64"
      ]
     },
     "execution_count": 5,
     "metadata": {},
     "output_type": "execute_result"
    }
   ],
   "source": [
    "# to check if there are missing values\n",
    "df.isna().sum()"
   ]
  },
  {
   "cell_type": "code",
   "execution_count": 6,
   "id": "52685612",
   "metadata": {},
   "outputs": [],
   "source": [
    "# to convert uppercase to lowercase characters\n",
    "def lower_word(t):\n",
    "    new_text = \"\".join(t.lower())\n",
    "    return new_text\n",
    "\n",
    "df['lowercased'] = df['tweet_text'].apply(lambda x: lower_word(x))"
   ]
  },
  {
   "cell_type": "code",
   "execution_count": 7,
   "id": "7f0ade40",
   "metadata": {},
   "outputs": [],
   "source": [
    "# remove usernames, url and non utf8/ascii characters \n",
    "def rem_url(t):\n",
    "    text1 = \"\".join(re.sub(r'(?:\\@|https?\\://)\\S+', '', t))\n",
    "    text = \"\".join(re.sub(r'[^\\x00-\\x7f]',r'', text1))\n",
    "    return text\n",
    "\n",
    "df['no_url_and_username'] = df['lowercased'].apply(lambda x: rem_url(x))"
   ]
  },
  {
   "cell_type": "code",
   "execution_count": 8,
   "id": "d3272036",
   "metadata": {},
   "outputs": [],
   "source": [
    "# to remove punctuation \n",
    "def rem_punc(t):\n",
    "        new_text = \"\".join(re.sub(r'[^\\w\\s]', '', t))\n",
    "        return new_text\n",
    "    \n",
    "df['no_punctuation'] = df['no_url_and_username'].apply(lambda x: rem_punc(x))"
   ]
  },
  {
   "cell_type": "code",
   "execution_count": 9,
   "id": "69bd4e9b",
   "metadata": {},
   "outputs": [],
   "source": [
    "# to break the sentence into tokens\n",
    "def create_token(t):\n",
    "        token_text = \" \".join(word_tokenize(t))\n",
    "        return token_text\n",
    "    \n",
    "df['tokenized'] = df['no_punctuation'].apply(lambda x: create_token(x))"
   ]
  },
  {
   "cell_type": "code",
   "execution_count": 10,
   "id": "265776f5",
   "metadata": {},
   "outputs": [],
   "source": [
    "# split strings into list and join as string \n",
    "stop_words = stopwords.words('english')\n",
    "stop_words.remove('not')\n",
    "stop_words.extend(['rt', 'mkr', 'httpâ', 'tvwâ', 'etc'])\n",
    "\n",
    "def rem_stopword(t):\n",
    "    new_text = \" \".join([word for word in t.split() if word not in stop_words])\n",
    "    return new_text\n",
    "\n",
    "df['no_stopwords'] = df['tokenized'].apply(lambda x: rem_stopword(x))"
   ]
  },
  {
   "cell_type": "code",
   "execution_count": 11,
   "id": "6606544d",
   "metadata": {},
   "outputs": [
    {
     "data": {
      "text/plain": [
       "(47692, 6)"
      ]
     },
     "execution_count": 11,
     "metadata": {},
     "output_type": "execute_result"
    }
   ],
   "source": [
    "# total number of rows after datapreprocessing\n",
    "df.shape"
   ]
  },
  {
   "cell_type": "code",
   "execution_count": 12,
   "id": "cadd808a",
   "metadata": {},
   "outputs": [
    {
     "data": {
      "text/plain": [
       "1686"
      ]
     },
     "execution_count": 12,
     "metadata": {},
     "output_type": "execute_result"
    }
   ],
   "source": [
    "# to check for duplicated cells after cleaning\n",
    "df.duplicated().sum()"
   ]
  },
  {
   "cell_type": "code",
   "execution_count": 13,
   "id": "0e39a8a3",
   "metadata": {},
   "outputs": [],
   "source": [
    "# drop duplicated cells\n",
    "df.drop_duplicates(\"no_stopwords\",inplace=True)"
   ]
  },
  {
   "cell_type": "code",
   "execution_count": 14,
   "id": "c2da10b0",
   "metadata": {},
   "outputs": [
    {
     "data": {
      "text/plain": [
       "0"
      ]
     },
     "execution_count": 14,
     "metadata": {},
     "output_type": "execute_result"
    }
   ],
   "source": [
    "# to show number of duplicated cells\n",
    "df.duplicated().sum()"
   ]
  },
  {
   "cell_type": "code",
   "execution_count": 15,
   "id": "42472aba",
   "metadata": {},
   "outputs": [],
   "source": [
    "# WORDNET LEMMATIZER (with appropriate pos tags)\n",
    "def lemma_postag(t):\n",
    "    lemmatizer = WordNetLemmatizer()\n",
    "\n",
    "# Define function to lemmatize each word with its POS tag\n",
    "\n",
    "    def pos_tagger(nltk_tag):\n",
    "        if nltk_tag.startswith('J'):\n",
    "            return wordnet.ADJ\n",
    "        elif nltk_tag.startswith('V'):\n",
    "            return wordnet.VERB\n",
    "        elif nltk_tag.startswith('N'):\n",
    "            return wordnet.NOUN\n",
    "        elif nltk_tag.startswith('R'):\n",
    "            return wordnet.ADV\n",
    "        else:\n",
    "            return None\n",
    "\n",
    "    # tokenize the sentence and find the POS tag for each token\n",
    "    pos_tagged = nltk.pos_tag(nltk.word_tokenize(t))\n",
    "\n",
    "    # our own pos_tagger function to make things simpler to understand.\n",
    "    wordnet_tagged = list(map(lambda x: (x[0], pos_tagger(x[1])), pos_tagged))\n",
    "\n",
    "    lemmatized_sentence = []\n",
    "    for word, tag in wordnet_tagged:\n",
    "        if tag is None:\n",
    "            # if there is no available tag, append the token as is\n",
    "            lemmatized_sentence.append(word)\n",
    "        else:\n",
    "            # else use the tag to lemmatize the token\n",
    "            lemmatized_sentence.append(lemmatizer.lemmatize(word, tag))\n",
    "    lemmatized_sentence = \" \".join(lemmatized_sentence)\n",
    "\n",
    "    return lemmatized_sentence\n"
   ]
  },
  {
   "cell_type": "code",
   "execution_count": 16,
   "id": "fa9f59f3",
   "metadata": {},
   "outputs": [],
   "source": [
    "# to lemmatize the words\n",
    "df['lemmatization_postag'] = df['no_stopwords'].apply(lambda x: lemma_postag(x))"
   ]
  },
  {
   "cell_type": "code",
   "execution_count": 17,
   "id": "e7915564",
   "metadata": {},
   "outputs": [
    {
     "data": {
      "text/html": [
       "<div>\n",
       "<style scoped>\n",
       "    .dataframe tbody tr th:only-of-type {\n",
       "        vertical-align: middle;\n",
       "    }\n",
       "\n",
       "    .dataframe tbody tr th {\n",
       "        vertical-align: top;\n",
       "    }\n",
       "\n",
       "    .dataframe thead th {\n",
       "        text-align: right;\n",
       "    }\n",
       "</style>\n",
       "<table border=\"1\" class=\"dataframe\">\n",
       "  <thead>\n",
       "    <tr style=\"text-align: right;\">\n",
       "      <th></th>\n",
       "      <th>tweet_text</th>\n",
       "      <th>lowercased</th>\n",
       "      <th>no_url_and_username</th>\n",
       "      <th>no_punctuation</th>\n",
       "      <th>tokenized</th>\n",
       "      <th>no_stopwords</th>\n",
       "      <th>lemmatization_postag</th>\n",
       "    </tr>\n",
       "  </thead>\n",
       "  <tbody>\n",
       "    <tr>\n",
       "      <th>0</th>\n",
       "      <td>In other words #katandandre, your food was crapilicious! #mkr</td>\n",
       "      <td>in other words #katandandre, your food was crapilicious! #mkr</td>\n",
       "      <td>in other words #katandandre, your food was crapilicious! #mkr</td>\n",
       "      <td>in other words katandandre your food was crapilicious mkr</td>\n",
       "      <td>in other words katandandre your food was crapilicious mkr</td>\n",
       "      <td>words katandandre food crapilicious</td>\n",
       "      <td>word katandandre food crapilicious</td>\n",
       "    </tr>\n",
       "    <tr>\n",
       "      <th>1</th>\n",
       "      <td>Why is #aussietv so white? #MKR #theblock #ImACelebrityAU #today #sunrise #studio10 #Neighbours #WonderlandTen #etc</td>\n",
       "      <td>why is #aussietv so white? #mkr #theblock #imacelebrityau #today #sunrise #studio10 #neighbours #wonderlandten #etc</td>\n",
       "      <td>why is #aussietv so white? #mkr #theblock #imacelebrityau #today #sunrise #studio10 #neighbours #wonderlandten #etc</td>\n",
       "      <td>why is aussietv so white mkr theblock imacelebrityau today sunrise studio10 neighbours wonderlandten etc</td>\n",
       "      <td>why is aussietv so white mkr theblock imacelebrityau today sunrise studio10 neighbours wonderlandten etc</td>\n",
       "      <td>aussietv white theblock imacelebrityau today sunrise studio10 neighbours wonderlandten</td>\n",
       "      <td>aussietv white theblock imacelebrityau today sunrise studio10 neighbour wonderlandten</td>\n",
       "    </tr>\n",
       "    <tr>\n",
       "      <th>2</th>\n",
       "      <td>@XochitlSuckkks a classy whore? Or more red velvet cupcakes?</td>\n",
       "      <td>@xochitlsuckkks a classy whore? or more red velvet cupcakes?</td>\n",
       "      <td>a classy whore? or more red velvet cupcakes?</td>\n",
       "      <td>a classy whore or more red velvet cupcakes</td>\n",
       "      <td>a classy whore or more red velvet cupcakes</td>\n",
       "      <td>classy whore red velvet cupcakes</td>\n",
       "      <td>classy whore red velvet cupcake</td>\n",
       "    </tr>\n",
       "    <tr>\n",
       "      <th>3</th>\n",
       "      <td>@Jason_Gio meh. :P  thanks for the heads up, but not too concerned about another angry dude on twitter.</td>\n",
       "      <td>@jason_gio meh. :p  thanks for the heads up, but not too concerned about another angry dude on twitter.</td>\n",
       "      <td>meh. :p  thanks for the heads up, but not too concerned about another angry dude on twitter.</td>\n",
       "      <td>meh p  thanks for the heads up but not too concerned about another angry dude on twitter</td>\n",
       "      <td>meh p thanks for the heads up but not too concerned about another angry dude on twitter</td>\n",
       "      <td>meh p thanks heads not concerned another angry dude twitter</td>\n",
       "      <td>meh p thanks head not concern another angry dude twitter</td>\n",
       "    </tr>\n",
       "    <tr>\n",
       "      <th>4</th>\n",
       "      <td>@RudhoeEnglish This is an ISIS account pretending to be a Kurdish account.  Like Islam, it is all lies.</td>\n",
       "      <td>@rudhoeenglish this is an isis account pretending to be a kurdish account.  like islam, it is all lies.</td>\n",
       "      <td>this is an isis account pretending to be a kurdish account.  like islam, it is all lies.</td>\n",
       "      <td>this is an isis account pretending to be a kurdish account  like islam it is all lies</td>\n",
       "      <td>this is an isis account pretending to be a kurdish account like islam it is all lies</td>\n",
       "      <td>isis account pretending kurdish account like islam lies</td>\n",
       "      <td>isi account pretend kurdish account like islam lie</td>\n",
       "    </tr>\n",
       "  </tbody>\n",
       "</table>\n",
       "</div>"
      ],
      "text/plain": [
       "                                                                                                            tweet_text  \\\n",
       "0                                                        In other words #katandandre, your food was crapilicious! #mkr   \n",
       "1  Why is #aussietv so white? #MKR #theblock #ImACelebrityAU #today #sunrise #studio10 #Neighbours #WonderlandTen #etc   \n",
       "2                                                         @XochitlSuckkks a classy whore? Or more red velvet cupcakes?   \n",
       "3              @Jason_Gio meh. :P  thanks for the heads up, but not too concerned about another angry dude on twitter.   \n",
       "4              @RudhoeEnglish This is an ISIS account pretending to be a Kurdish account.  Like Islam, it is all lies.   \n",
       "\n",
       "                                                                                                            lowercased  \\\n",
       "0                                                        in other words #katandandre, your food was crapilicious! #mkr   \n",
       "1  why is #aussietv so white? #mkr #theblock #imacelebrityau #today #sunrise #studio10 #neighbours #wonderlandten #etc   \n",
       "2                                                         @xochitlsuckkks a classy whore? or more red velvet cupcakes?   \n",
       "3              @jason_gio meh. :p  thanks for the heads up, but not too concerned about another angry dude on twitter.   \n",
       "4              @rudhoeenglish this is an isis account pretending to be a kurdish account.  like islam, it is all lies.   \n",
       "\n",
       "                                                                                                   no_url_and_username  \\\n",
       "0                                                        in other words #katandandre, your food was crapilicious! #mkr   \n",
       "1  why is #aussietv so white? #mkr #theblock #imacelebrityau #today #sunrise #studio10 #neighbours #wonderlandten #etc   \n",
       "2                                                                         a classy whore? or more red velvet cupcakes?   \n",
       "3                         meh. :p  thanks for the heads up, but not too concerned about another angry dude on twitter.   \n",
       "4                             this is an isis account pretending to be a kurdish account.  like islam, it is all lies.   \n",
       "\n",
       "                                                                                             no_punctuation  \\\n",
       "0                                                 in other words katandandre your food was crapilicious mkr   \n",
       "1  why is aussietv so white mkr theblock imacelebrityau today sunrise studio10 neighbours wonderlandten etc   \n",
       "2                                                                a classy whore or more red velvet cupcakes   \n",
       "3                  meh p  thanks for the heads up but not too concerned about another angry dude on twitter   \n",
       "4                     this is an isis account pretending to be a kurdish account  like islam it is all lies   \n",
       "\n",
       "                                                                                                  tokenized  \\\n",
       "0                                                 in other words katandandre your food was crapilicious mkr   \n",
       "1  why is aussietv so white mkr theblock imacelebrityau today sunrise studio10 neighbours wonderlandten etc   \n",
       "2                                                                a classy whore or more red velvet cupcakes   \n",
       "3                   meh p thanks for the heads up but not too concerned about another angry dude on twitter   \n",
       "4                      this is an isis account pretending to be a kurdish account like islam it is all lies   \n",
       "\n",
       "                                                                             no_stopwords  \\\n",
       "0                                                     words katandandre food crapilicious   \n",
       "1  aussietv white theblock imacelebrityau today sunrise studio10 neighbours wonderlandten   \n",
       "2                                                        classy whore red velvet cupcakes   \n",
       "3                             meh p thanks heads not concerned another angry dude twitter   \n",
       "4                                 isis account pretending kurdish account like islam lies   \n",
       "\n",
       "                                                                    lemmatization_postag  \n",
       "0                                                     word katandandre food crapilicious  \n",
       "1  aussietv white theblock imacelebrityau today sunrise studio10 neighbour wonderlandten  \n",
       "2                                                        classy whore red velvet cupcake  \n",
       "3                               meh p thanks head not concern another angry dude twitter  \n",
       "4                                     isi account pretend kurdish account like islam lie  "
      ]
     },
     "execution_count": 17,
     "metadata": {},
     "output_type": "execute_result"
    }
   ],
   "source": [
    "# to view at preprocessed data\n",
    "df.head()"
   ]
  },
  {
   "cell_type": "code",
   "execution_count": 18,
   "id": "adb9537e",
   "metadata": {},
   "outputs": [
    {
     "data": {
      "text/html": [
       "<div>\n",
       "<style scoped>\n",
       "    .dataframe tbody tr th:only-of-type {\n",
       "        vertical-align: middle;\n",
       "    }\n",
       "\n",
       "    .dataframe tbody tr th {\n",
       "        vertical-align: top;\n",
       "    }\n",
       "\n",
       "    .dataframe thead th {\n",
       "        text-align: right;\n",
       "    }\n",
       "</style>\n",
       "<table border=\"1\" class=\"dataframe\">\n",
       "  <thead>\n",
       "    <tr style=\"text-align: right;\">\n",
       "      <th></th>\n",
       "      <th>original_tweet</th>\n",
       "      <th>cleaned_tweet</th>\n",
       "    </tr>\n",
       "  </thead>\n",
       "  <tbody>\n",
       "    <tr>\n",
       "      <th>0</th>\n",
       "      <td>In other words #katandandre, your food was crapilicious! #mkr</td>\n",
       "      <td>word katandandre food crapilicious</td>\n",
       "    </tr>\n",
       "    <tr>\n",
       "      <th>1</th>\n",
       "      <td>Why is #aussietv so white? #MKR #theblock #ImACelebrityAU #today #sunrise #studio10 #Neighbours #WonderlandTen #etc</td>\n",
       "      <td>aussietv white theblock imacelebrityau today sunrise studio10 neighbour wonderlandten</td>\n",
       "    </tr>\n",
       "    <tr>\n",
       "      <th>2</th>\n",
       "      <td>@XochitlSuckkks a classy whore? Or more red velvet cupcakes?</td>\n",
       "      <td>classy whore red velvet cupcake</td>\n",
       "    </tr>\n",
       "    <tr>\n",
       "      <th>3</th>\n",
       "      <td>@Jason_Gio meh. :P  thanks for the heads up, but not too concerned about another angry dude on twitter.</td>\n",
       "      <td>meh p thanks head not concern another angry dude twitter</td>\n",
       "    </tr>\n",
       "    <tr>\n",
       "      <th>4</th>\n",
       "      <td>@RudhoeEnglish This is an ISIS account pretending to be a Kurdish account.  Like Islam, it is all lies.</td>\n",
       "      <td>isi account pretend kurdish account like islam lie</td>\n",
       "    </tr>\n",
       "  </tbody>\n",
       "</table>\n",
       "</div>"
      ],
      "text/plain": [
       "                                                                                                        original_tweet  \\\n",
       "0                                                        In other words #katandandre, your food was crapilicious! #mkr   \n",
       "1  Why is #aussietv so white? #MKR #theblock #ImACelebrityAU #today #sunrise #studio10 #Neighbours #WonderlandTen #etc   \n",
       "2                                                         @XochitlSuckkks a classy whore? Or more red velvet cupcakes?   \n",
       "3              @Jason_Gio meh. :P  thanks for the heads up, but not too concerned about another angry dude on twitter.   \n",
       "4              @RudhoeEnglish This is an ISIS account pretending to be a Kurdish account.  Like Islam, it is all lies.   \n",
       "\n",
       "                                                                           cleaned_tweet  \n",
       "0                                                     word katandandre food crapilicious  \n",
       "1  aussietv white theblock imacelebrityau today sunrise studio10 neighbour wonderlandten  \n",
       "2                                                        classy whore red velvet cupcake  \n",
       "3                               meh p thanks head not concern another angry dude twitter  \n",
       "4                                     isi account pretend kurdish account like islam lie  "
      ]
     },
     "execution_count": 18,
     "metadata": {},
     "output_type": "execute_result"
    }
   ],
   "source": [
    "# to drop all columns except for cleaned_tweet and original_tweet\n",
    "\n",
    "clean_data = df.drop(['lowercased', 'no_url_and_username', 'no_punctuation', 'no_stopwords', 'tokenized'], axis = 1)\n",
    "clean_data.rename(columns = {\"lemmatization_postag\":\"cleaned_tweet\"}, inplace = True)\n",
    "clean_data.rename(columns = {\"tweet_text\":\"original_tweet\"}, inplace = True)\n",
    "\n",
    "clean_data.head()"
   ]
  },
  {
   "cell_type": "code",
   "execution_count": 19,
   "id": "ab600851",
   "metadata": {},
   "outputs": [],
   "source": [
    "# use TextBlob to find out the polarity of the sentence to use it as the target variable during training\n",
    "\n",
    "def getPolarity_TB(t):\n",
    "    result = TextBlob(t).sentiment.polarity\n",
    "    return result"
   ]
  },
  {
   "cell_type": "code",
   "execution_count": 20,
   "id": "7dc183ab",
   "metadata": {},
   "outputs": [],
   "source": [
    "# create a new table to label the sentences\n",
    "text_blob = clean_data.copy(deep=True)\n",
    "\n",
    "text_blob['polarity'] = text_blob['cleaned_tweet'].apply(getPolarity_TB)"
   ]
  },
  {
   "cell_type": "code",
   "execution_count": 21,
   "id": "e63d0a33",
   "metadata": {},
   "outputs": [
    {
     "data": {
      "text/html": [
       "<div>\n",
       "<style scoped>\n",
       "    .dataframe tbody tr th:only-of-type {\n",
       "        vertical-align: middle;\n",
       "    }\n",
       "\n",
       "    .dataframe tbody tr th {\n",
       "        vertical-align: top;\n",
       "    }\n",
       "\n",
       "    .dataframe thead th {\n",
       "        text-align: right;\n",
       "    }\n",
       "</style>\n",
       "<table border=\"1\" class=\"dataframe\">\n",
       "  <thead>\n",
       "    <tr style=\"text-align: right;\">\n",
       "      <th></th>\n",
       "      <th>original_tweet</th>\n",
       "      <th>cleaned_tweet</th>\n",
       "      <th>polarity</th>\n",
       "    </tr>\n",
       "  </thead>\n",
       "  <tbody>\n",
       "    <tr>\n",
       "      <th>0</th>\n",
       "      <td>In other words #katandandre, your food was crapilicious! #mkr</td>\n",
       "      <td>word katandandre food crapilicious</td>\n",
       "      <td>0.00</td>\n",
       "    </tr>\n",
       "    <tr>\n",
       "      <th>1</th>\n",
       "      <td>Why is #aussietv so white? #MKR #theblock #ImACelebrityAU #today #sunrise #studio10 #Neighbours #WonderlandTen #etc</td>\n",
       "      <td>aussietv white theblock imacelebrityau today sunrise studio10 neighbour wonderlandten</td>\n",
       "      <td>0.00</td>\n",
       "    </tr>\n",
       "    <tr>\n",
       "      <th>2</th>\n",
       "      <td>@XochitlSuckkks a classy whore? Or more red velvet cupcakes?</td>\n",
       "      <td>classy whore red velvet cupcake</td>\n",
       "      <td>0.05</td>\n",
       "    </tr>\n",
       "    <tr>\n",
       "      <th>3</th>\n",
       "      <td>@Jason_Gio meh. :P  thanks for the heads up, but not too concerned about another angry dude on twitter.</td>\n",
       "      <td>meh p thanks head not concern another angry dude twitter</td>\n",
       "      <td>-0.15</td>\n",
       "    </tr>\n",
       "    <tr>\n",
       "      <th>4</th>\n",
       "      <td>@RudhoeEnglish This is an ISIS account pretending to be a Kurdish account.  Like Islam, it is all lies.</td>\n",
       "      <td>isi account pretend kurdish account like islam lie</td>\n",
       "      <td>0.00</td>\n",
       "    </tr>\n",
       "  </tbody>\n",
       "</table>\n",
       "</div>"
      ],
      "text/plain": [
       "                                                                                                        original_tweet  \\\n",
       "0                                                        In other words #katandandre, your food was crapilicious! #mkr   \n",
       "1  Why is #aussietv so white? #MKR #theblock #ImACelebrityAU #today #sunrise #studio10 #Neighbours #WonderlandTen #etc   \n",
       "2                                                         @XochitlSuckkks a classy whore? Or more red velvet cupcakes?   \n",
       "3              @Jason_Gio meh. :P  thanks for the heads up, but not too concerned about another angry dude on twitter.   \n",
       "4              @RudhoeEnglish This is an ISIS account pretending to be a Kurdish account.  Like Islam, it is all lies.   \n",
       "\n",
       "                                                                           cleaned_tweet  \\\n",
       "0                                                     word katandandre food crapilicious   \n",
       "1  aussietv white theblock imacelebrityau today sunrise studio10 neighbour wonderlandten   \n",
       "2                                                        classy whore red velvet cupcake   \n",
       "3                               meh p thanks head not concern another angry dude twitter   \n",
       "4                                     isi account pretend kurdish account like islam lie   \n",
       "\n",
       "   polarity  \n",
       "0      0.00  \n",
       "1      0.00  \n",
       "2      0.05  \n",
       "3     -0.15  \n",
       "4      0.00  "
      ]
     },
     "execution_count": 21,
     "metadata": {},
     "output_type": "execute_result"
    }
   ],
   "source": [
    "text_blob.head()"
   ]
  },
  {
   "cell_type": "code",
   "execution_count": 22,
   "id": "08cd5a9d",
   "metadata": {},
   "outputs": [],
   "source": [
    "# to label the text based on polarity score \n",
    "def getLabel(polarity):\n",
    "    if polarity < 0:\n",
    "        return 'Negative'\n",
    "    elif polarity == 0:\n",
    "        return 'Neutral'\n",
    "    else:\n",
    "        return 'Positive'"
   ]
  },
  {
   "cell_type": "code",
   "execution_count": 23,
   "id": "42f7904f",
   "metadata": {},
   "outputs": [],
   "source": [
    "text_blob['label'] = text_blob['polarity'].apply(getLabel)"
   ]
  },
  {
   "cell_type": "code",
   "execution_count": 24,
   "id": "450f30fc",
   "metadata": {},
   "outputs": [
    {
     "data": {
      "text/html": [
       "<div>\n",
       "<style scoped>\n",
       "    .dataframe tbody tr th:only-of-type {\n",
       "        vertical-align: middle;\n",
       "    }\n",
       "\n",
       "    .dataframe tbody tr th {\n",
       "        vertical-align: top;\n",
       "    }\n",
       "\n",
       "    .dataframe thead th {\n",
       "        text-align: right;\n",
       "    }\n",
       "</style>\n",
       "<table border=\"1\" class=\"dataframe\">\n",
       "  <thead>\n",
       "    <tr style=\"text-align: right;\">\n",
       "      <th></th>\n",
       "      <th>original_tweet</th>\n",
       "      <th>cleaned_tweet</th>\n",
       "      <th>polarity</th>\n",
       "      <th>label</th>\n",
       "    </tr>\n",
       "  </thead>\n",
       "  <tbody>\n",
       "    <tr>\n",
       "      <th>0</th>\n",
       "      <td>In other words #katandandre, your food was crapilicious! #mkr</td>\n",
       "      <td>word katandandre food crapilicious</td>\n",
       "      <td>0.00</td>\n",
       "      <td>Neutral</td>\n",
       "    </tr>\n",
       "    <tr>\n",
       "      <th>1</th>\n",
       "      <td>Why is #aussietv so white? #MKR #theblock #ImACelebrityAU #today #sunrise #studio10 #Neighbours #WonderlandTen #etc</td>\n",
       "      <td>aussietv white theblock imacelebrityau today sunrise studio10 neighbour wonderlandten</td>\n",
       "      <td>0.00</td>\n",
       "      <td>Neutral</td>\n",
       "    </tr>\n",
       "    <tr>\n",
       "      <th>2</th>\n",
       "      <td>@XochitlSuckkks a classy whore? Or more red velvet cupcakes?</td>\n",
       "      <td>classy whore red velvet cupcake</td>\n",
       "      <td>0.05</td>\n",
       "      <td>Positive</td>\n",
       "    </tr>\n",
       "    <tr>\n",
       "      <th>3</th>\n",
       "      <td>@Jason_Gio meh. :P  thanks for the heads up, but not too concerned about another angry dude on twitter.</td>\n",
       "      <td>meh p thanks head not concern another angry dude twitter</td>\n",
       "      <td>-0.15</td>\n",
       "      <td>Negative</td>\n",
       "    </tr>\n",
       "    <tr>\n",
       "      <th>4</th>\n",
       "      <td>@RudhoeEnglish This is an ISIS account pretending to be a Kurdish account.  Like Islam, it is all lies.</td>\n",
       "      <td>isi account pretend kurdish account like islam lie</td>\n",
       "      <td>0.00</td>\n",
       "      <td>Neutral</td>\n",
       "    </tr>\n",
       "  </tbody>\n",
       "</table>\n",
       "</div>"
      ],
      "text/plain": [
       "                                                                                                        original_tweet  \\\n",
       "0                                                        In other words #katandandre, your food was crapilicious! #mkr   \n",
       "1  Why is #aussietv so white? #MKR #theblock #ImACelebrityAU #today #sunrise #studio10 #Neighbours #WonderlandTen #etc   \n",
       "2                                                         @XochitlSuckkks a classy whore? Or more red velvet cupcakes?   \n",
       "3              @Jason_Gio meh. :P  thanks for the heads up, but not too concerned about another angry dude on twitter.   \n",
       "4              @RudhoeEnglish This is an ISIS account pretending to be a Kurdish account.  Like Islam, it is all lies.   \n",
       "\n",
       "                                                                           cleaned_tweet  \\\n",
       "0                                                     word katandandre food crapilicious   \n",
       "1  aussietv white theblock imacelebrityau today sunrise studio10 neighbour wonderlandten   \n",
       "2                                                        classy whore red velvet cupcake   \n",
       "3                               meh p thanks head not concern another angry dude twitter   \n",
       "4                                     isi account pretend kurdish account like islam lie   \n",
       "\n",
       "   polarity     label  \n",
       "0      0.00   Neutral  \n",
       "1      0.00   Neutral  \n",
       "2      0.05  Positive  \n",
       "3     -0.15  Negative  \n",
       "4      0.00   Neutral  "
      ]
     },
     "execution_count": 24,
     "metadata": {},
     "output_type": "execute_result"
    }
   ],
   "source": [
    "text_blob.head()"
   ]
  },
  {
   "cell_type": "code",
   "execution_count": 25,
   "id": "2f085770",
   "metadata": {},
   "outputs": [],
   "source": [
    "# to drop all text labelled as \"Neutral\"\n",
    "text_blob.drop(text_blob[text_blob['label'] == \"Neutral\"].index, inplace=True)"
   ]
  },
  {
   "cell_type": "code",
   "execution_count": 26,
   "id": "4d463ff9",
   "metadata": {},
   "outputs": [
    {
     "data": {
      "text/plain": [
       "(34848, 4)"
      ]
     },
     "execution_count": 26,
     "metadata": {},
     "output_type": "execute_result"
    }
   ],
   "source": [
    "# to check the shape of the data\n",
    "text_blob.shape"
   ]
  },
  {
   "cell_type": "code",
   "execution_count": 27,
   "id": "f657751a",
   "metadata": {},
   "outputs": [],
   "source": [
    "# to change the target variable to numerical form for training and testing\n",
    "text_blob['target'] = text_blob['label'].apply(lambda label : 1 if label == \"Negative\" else 0)"
   ]
  },
  {
   "cell_type": "code",
   "execution_count": 28,
   "id": "1fc8e9a1",
   "metadata": {},
   "outputs": [
    {
     "data": {
      "text/plain": [
       "(34848, 5)"
      ]
     },
     "execution_count": 28,
     "metadata": {},
     "output_type": "execute_result"
    }
   ],
   "source": [
    "# to check the shape of the data\n",
    "text_blob.shape"
   ]
  },
  {
   "cell_type": "code",
   "execution_count": 31,
   "id": "30003815",
   "metadata": {},
   "outputs": [
    {
     "data": {
      "text/html": [
       "<div>\n",
       "<style scoped>\n",
       "    .dataframe tbody tr th:only-of-type {\n",
       "        vertical-align: middle;\n",
       "    }\n",
       "\n",
       "    .dataframe tbody tr th {\n",
       "        vertical-align: top;\n",
       "    }\n",
       "\n",
       "    .dataframe thead th {\n",
       "        text-align: right;\n",
       "    }\n",
       "</style>\n",
       "<table border=\"1\" class=\"dataframe\">\n",
       "  <thead>\n",
       "    <tr style=\"text-align: right;\">\n",
       "      <th></th>\n",
       "      <th>original_tweet</th>\n",
       "      <th>cleaned_tweet</th>\n",
       "      <th>polarity</th>\n",
       "      <th>label</th>\n",
       "      <th>target</th>\n",
       "    </tr>\n",
       "  </thead>\n",
       "  <tbody>\n",
       "    <tr>\n",
       "      <th>2</th>\n",
       "      <td>@XochitlSuckkks a classy whore? Or more red velvet cupcakes?</td>\n",
       "      <td>classy whore red velvet cupcake</td>\n",
       "      <td>0.050000</td>\n",
       "      <td>Positive</td>\n",
       "      <td>0</td>\n",
       "    </tr>\n",
       "    <tr>\n",
       "      <th>3</th>\n",
       "      <td>@Jason_Gio meh. :P  thanks for the heads up, but not too concerned about another angry dude on twitter.</td>\n",
       "      <td>meh p thanks head not concern another angry dude twitter</td>\n",
       "      <td>-0.150000</td>\n",
       "      <td>Negative</td>\n",
       "      <td>1</td>\n",
       "    </tr>\n",
       "    <tr>\n",
       "      <th>5</th>\n",
       "      <td>@Raja5aab @Quickieleaks Yes, the test of god is that good or bad or indifferent or weird or whatever, it all proves gods existence.</td>\n",
       "      <td>yes test god good bad indifferent weird whatever prove god existence</td>\n",
       "      <td>-0.166667</td>\n",
       "      <td>Negative</td>\n",
       "      <td>1</td>\n",
       "    </tr>\n",
       "    <tr>\n",
       "      <th>7</th>\n",
       "      <td>Karma. I hope it bites Kat on the butt. She is just nasty. #mkr</td>\n",
       "      <td>karma hope bite kat butt nasty</td>\n",
       "      <td>-1.000000</td>\n",
       "      <td>Negative</td>\n",
       "      <td>1</td>\n",
       "    </tr>\n",
       "    <tr>\n",
       "      <th>8</th>\n",
       "      <td>@stockputout everything but mostly my priest</td>\n",
       "      <td>everything mostly priest</td>\n",
       "      <td>0.500000</td>\n",
       "      <td>Positive</td>\n",
       "      <td>0</td>\n",
       "    </tr>\n",
       "  </tbody>\n",
       "</table>\n",
       "</div>"
      ],
      "text/plain": [
       "                                                                                                                        original_tweet  \\\n",
       "2                                                                         @XochitlSuckkks a classy whore? Or more red velvet cupcakes?   \n",
       "3                              @Jason_Gio meh. :P  thanks for the heads up, but not too concerned about another angry dude on twitter.   \n",
       "5  @Raja5aab @Quickieleaks Yes, the test of god is that good or bad or indifferent or weird or whatever, it all proves gods existence.   \n",
       "7                                                                      Karma. I hope it bites Kat on the butt. She is just nasty. #mkr   \n",
       "8                                                                                         @stockputout everything but mostly my priest   \n",
       "\n",
       "                                                          cleaned_tweet  \\\n",
       "2                                       classy whore red velvet cupcake   \n",
       "3              meh p thanks head not concern another angry dude twitter   \n",
       "5  yes test god good bad indifferent weird whatever prove god existence   \n",
       "7                                        karma hope bite kat butt nasty   \n",
       "8                                              everything mostly priest   \n",
       "\n",
       "   polarity     label  target  \n",
       "2  0.050000  Positive       0  \n",
       "3 -0.150000  Negative       1  \n",
       "5 -0.166667  Negative       1  \n",
       "7 -1.000000  Negative       1  \n",
       "8  0.500000  Positive       0  "
      ]
     },
     "execution_count": 31,
     "metadata": {},
     "output_type": "execute_result"
    }
   ],
   "source": [
    "text_blob.head()"
   ]
  },
  {
   "cell_type": "code",
   "execution_count": 33,
   "id": "b0dc6523",
   "metadata": {},
   "outputs": [],
   "source": [
    "# need to change the index number of columns in excel \n",
    "# this step is not executed to preserve the original data \n",
    "\n",
    "# text_blob.to_csv('cleaned_table_final.csv') "
   ]
  },
  {
   "cell_type": "code",
   "execution_count": 34,
   "id": "f47322ff",
   "metadata": {},
   "outputs": [],
   "source": [
    "# load the new table with rearranged index number \n",
    "data = pd.read_csv(\"cleaned_table_final_rearranged.csv\")"
   ]
  },
  {
   "cell_type": "code",
   "execution_count": 35,
   "id": "e3a5ae2e",
   "metadata": {},
   "outputs": [],
   "source": [
    "#using all data\n",
    "x = data['cleaned_tweet'] #feature\n",
    "y = data['target'] #target"
   ]
  },
  {
   "cell_type": "code",
   "execution_count": 36,
   "id": "499c437f",
   "metadata": {},
   "outputs": [
    {
     "name": "stdout",
     "output_type": "stream",
     "text": [
      "(34848,)\n",
      "(34848,)\n"
     ]
    }
   ],
   "source": [
    "print(x.shape)\n",
    "print(y.shape)"
   ]
  },
  {
   "cell_type": "code",
   "execution_count": null,
   "id": "5f9f4529",
   "metadata": {},
   "outputs": [],
   "source": [
    "# to check the distribution of data in each class\n",
    "\n",
    "x=data['target'].value_counts()\n",
    "sns.barplot(x.index,x)\n",
    "\n",
    "sum = x[0] + x[1]\n",
    "percentage_positive = (x[0]/sum)*100\n",
    "percentage_negative = (x[1]/sum)*100\n",
    "diff = percentage_negative - percentage_positive\n",
    "\n",
    "print(\"Percentage of positive class (0) : {:.2f}%\".format(percentage_positive))\n",
    "print(\"Percentage of negative class (1) : {:.2f}%\".format(percentage_negative))\n",
    "print(\"Difference between two classes : {:.2f}%\".format(diff))\n"
   ]
  },
  {
   "cell_type": "code",
   "execution_count": 37,
   "id": "a1d174be",
   "metadata": {},
   "outputs": [
    {
     "name": "stdout",
     "output_type": "stream",
     "text": [
      "x_train shape (27878,) , x_test shape (6970,) \n",
      "y_train shape (27878,) , y_test shape (6970,) \n"
     ]
    }
   ],
   "source": [
    "# split data into train data and test data\n",
    "\n",
    "x_train, x_test, y_train_label, y_test_label = train_test_split(x, y, test_size=0.2, random_state = 42)\n",
    "\n",
    "print(\"x_train shape {} , x_test shape {} \".format(x_train.shape, x_test.shape))\n",
    "print(\"y_train shape {} , y_test shape {} \".format(y_train_label.shape, y_test_label.shape))"
   ]
  },
  {
   "cell_type": "code",
   "execution_count": 38,
   "id": "b78fe4ea",
   "metadata": {},
   "outputs": [
    {
     "name": "stdout",
     "output_type": "stream",
     "text": [
      "Bag of Words……\n"
     ]
    }
   ],
   "source": [
    "# change text to numerical form with BOW \n",
    "\n",
    "# BOW\n",
    "print(\"Bag of Words……\")\n",
    "my_stopWords = stop_words\n",
    "count_vectorizer = CountVectorizer(stop_words= my_stopWords)\n",
    "bow_vector_final = count_vectorizer.fit(x_train)\n",
    "bow_x_train_final = count_vectorizer.transform(x_train)\n",
    "\n",
    "bow_x_test_final = count_vectorizer.transform(x_test)"
   ]
  },
  {
   "cell_type": "code",
   "execution_count": 43,
   "id": "eed41e09",
   "metadata": {},
   "outputs": [],
   "source": [
    "# train the model and test the model\n",
    "\n",
    "final_model = svm.SVC(C=0.1, kernel='linear', random_state = 42, probability=True)\n",
    "final_model = sklearn.base.clone(final_model)\n",
    "\n",
    "final_model.fit(bow_x_train_final, y_train_label)\n",
    "final_model_predicted = final_model.predict(bow_x_test_final)"
   ]
  },
  {
   "cell_type": "code",
   "execution_count": 44,
   "id": "b18bdbde",
   "metadata": {},
   "outputs": [
    {
     "name": "stdout",
     "output_type": "stream",
     "text": [
      "Support Vector Machine\n",
      "0.9261119081779053\n",
      "              precision    recall  f1-score   support\n",
      "\n",
      "           0       0.91      0.94      0.92      3245\n",
      "           1       0.94      0.92      0.93      3725\n",
      "\n",
      "    accuracy                           0.93      6970\n",
      "   macro avg       0.93      0.93      0.93      6970\n",
      "weighted avg       0.93      0.93      0.93      6970\n",
      "\n"
     ]
    },
    {
     "data": {
      "image/png": "[encoded data removed]",
      "text/plain": [
       "<Figure size 432x288 with 2 Axes>"
      ]
     },
     "metadata": {
      "needs_background": "light"
     },
     "output_type": "display_data"
    }
   ],
   "source": [
    "# print classification report\n",
    "print(\"Support Vector Machine\")\n",
    "print(accuracy_score(y_test_label, final_model_predicted))\n",
    "print(classification_report(y_test_label, final_model_predicted))\n",
    "\n",
    "# print confusion matrix \n",
    "final_cm = confusion_matrix(y_test_label, final_model_predicted)\n",
    "sns.heatmap(final_cm, annot=True, fmt = '.2f')\n",
    "plt.title('Confusion Matrix for Final Model (SVM + BOW)')\n",
    "plt.ylabel('Actual Values')\n",
    "plt.xlabel('Predicted Values')\n",
    "plt.show()"
   ]
  },
  {
   "cell_type": "code",
   "execution_count": 46,
   "id": "9170e618",
   "metadata": {},
   "outputs": [],
   "source": [
    "# build pipeline to save model\n",
    "\n",
    "pipeline = Pipeline([('bow', CountVectorizer(stop_words= my_stopWords)), \n",
    "             ('clf', svm.SVC(C=0.1, kernel='linear', random_state = 42, probability=True))])\n",
    "\n",
    "model = pipeline.fit(x_train, y_train_label)"
   ]
  },
  {
   "cell_type": "code",
   "execution_count": 123,
   "id": "4f96df88",
   "metadata": {},
   "outputs": [],
   "source": [
    "# look at the accuracy of the model after pipeline\n",
    "accuracy = model.score(x_test, y_test_label)\n",
    "accuracy2 = accuracy_score(y_test_label, final_model_predicted)"
   ]
  },
  {
   "cell_type": "code",
   "execution_count": 124,
   "id": "a80794d8",
   "metadata": {},
   "outputs": [
    {
     "name": "stdout",
     "output_type": "stream",
     "text": [
      "Accuracy score for pipeline model:  0.9261119081779053\n",
      "Accuracy score for model before pipeline:  0.9261119081779053\n"
     ]
    }
   ],
   "source": [
    "print('Accuracy score for pipeline model: ', accuracy)\n",
    "print('Accuracy score for model before pipeline: ', accuracy2)"
   ]
  },
  {
   "cell_type": "code",
   "execution_count": 121,
   "id": "63ae2e27",
   "metadata": {},
   "outputs": [
    {
     "data": {
      "text/plain": [
       "['text_classification.joblib']"
      ]
     },
     "execution_count": 121,
     "metadata": {},
     "output_type": "execute_result"
    }
   ],
   "source": [
    "# dump the pipeline model\n",
    "# load this model into web application for classification\n",
    "dump(pipeline, filename=\"text_classification.joblib\")"
   ]
  }
 ],
 "metadata": {
  "kernelspec": {
   "display_name": "Python 3",
   "language": "python",
   "name": "python3"
  },
  "language_info": {
   "codemirror_mode": {
    "name": "ipython",
    "version": 3
   },
   "file_extension": ".py",
   "mimetype": "text/x-python",
   "name": "python",
   "nbconvert_exporter": "python",
   "pygments_lexer": "ipython3",
   "version": "3.8.8"
  }
 },
 "nbformat": 4,
 "nbformat_minor": 5
}
