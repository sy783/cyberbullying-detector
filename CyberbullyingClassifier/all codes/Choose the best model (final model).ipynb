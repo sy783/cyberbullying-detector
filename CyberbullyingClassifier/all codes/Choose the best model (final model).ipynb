{
 "cells": [
  {
   "cell_type": "markdown",
   "id": "7f3d7c02",
   "metadata": {},
   "source": [
    "## Cyberbullying Detection: A Machine Learning Approach"
   ]
  },
  {
   "cell_type": "code",
   "execution_count": 1,
   "id": "7ecf748c",
   "metadata": {},
   "outputs": [],
   "source": [
    "#imports\n",
    "\n",
    "import pandas as pd \n",
    "import nltk\n",
    "import re\n",
    "import matplotlib.pyplot as plt\n",
    "import numpy as np\n",
    "import sklearn"
   ]
  },
  {
   "cell_type": "markdown",
   "id": "9da2e369",
   "metadata": {},
   "source": [
    "### Step 1: Load the Dataset "
   ]
  },
  {
   "cell_type": "code",
   "execution_count": 2,
   "id": "8e5d28f4",
   "metadata": {},
   "outputs": [],
   "source": [
    "#load the cleaned table into df\n",
    "# need to adjust the index numbers manually because it is not arranged properly and it is renamed into the same filename\n",
    "# However a new file called cleaned_table_final_rearranged was created later for the final program\n",
    "# so that the user dont have to manually change the index number in the file \n",
    "\n",
    "data = pd.read_csv(\"cleaned_table.csv\")"
   ]
  },
  {
   "cell_type": "markdown",
   "id": "943ce5fa",
   "metadata": {},
   "source": [
    "#### Define full data and partial data "
   ]
  },
  {
   "cell_type": "code",
   "execution_count": 3,
   "id": "1b189855",
   "metadata": {},
   "outputs": [],
   "source": [
    "# using partial data because not enough memory\n",
    "# using 50% of the full dataset\n",
    "x_partial = data['cleaned_tweet'][0:17424] #feature\n",
    "y_partial = data['target'][0:17424] #target"
   ]
  },
  {
   "cell_type": "code",
   "execution_count": 4,
   "id": "f81d84c3",
   "metadata": {},
   "outputs": [
    {
     "name": "stdout",
     "output_type": "stream",
     "text": [
      "(17424,)\n",
      "(17424,)\n"
     ]
    }
   ],
   "source": [
    "print(x_partial.shape)\n",
    "print(y_partial.shape)"
   ]
  },
  {
   "cell_type": "code",
   "execution_count": 5,
   "id": "dd7626f7",
   "metadata": {},
   "outputs": [],
   "source": [
    "#using all data\n",
    "x = data['cleaned_tweet'] #feature\n",
    "y = data['target'] #target"
   ]
  },
  {
   "cell_type": "code",
   "execution_count": 6,
   "id": "9cacee68",
   "metadata": {},
   "outputs": [
    {
     "name": "stdout",
     "output_type": "stream",
     "text": [
      "(34848,)\n",
      "(34848,)\n"
     ]
    }
   ],
   "source": [
    "print(x.shape)\n",
    "print(y.shape)"
   ]
  },
  {
   "cell_type": "markdown",
   "id": "78410c14",
   "metadata": {},
   "source": [
    "#### Split the data into train data and test data (full data)"
   ]
  },
  {
   "cell_type": "code",
   "execution_count": 7,
   "id": "dd55d9c0",
   "metadata": {},
   "outputs": [],
   "source": [
    "from sklearn.model_selection import train_test_split"
   ]
  },
  {
   "cell_type": "code",
   "execution_count": 8,
   "id": "ae88b6f5",
   "metadata": {},
   "outputs": [
    {
     "name": "stdout",
     "output_type": "stream",
     "text": [
      "x_train shape (27878,) , x_test shape (6970,) \n",
      "y_train shape (27878,) , y_test shape (6970,) \n"
     ]
    }
   ],
   "source": [
    "# split data \n",
    "\n",
    "x_train, x_test, y_train_label, y_test_label = train_test_split(x, y, test_size=0.2, random_state = 42)\n",
    "\n",
    "print(\"x_train shape {} , x_test shape {} \".format(x_train.shape, x_test.shape))\n",
    "print(\"y_train shape {} , y_test shape {} \".format(y_train_label.shape, y_test_label.shape))"
   ]
  },
  {
   "cell_type": "markdown",
   "id": "b3e339e9",
   "metadata": {},
   "source": [
    "#### Split data for Bag of Words (partial data)"
   ]
  },
  {
   "cell_type": "code",
   "execution_count": 9,
   "id": "4dd719d6",
   "metadata": {},
   "outputs": [
    {
     "name": "stdout",
     "output_type": "stream",
     "text": [
      "Partial data: \n",
      "x_train_bow_p shape for BOW (13939,) , x_test_bow_p shape for BOW (3485,) \n",
      "y_train_label_bow_p shape for BOW (13939,) , y_test_label_bow_p shape for BOW (3485,) \n"
     ]
    }
   ],
   "source": [
    "# split data for bow \n",
    "\n",
    "x_train_bow_p, x_test_bow_p, y_train_label_bow_p, y_test_label_bow_p = train_test_split(x_partial, y_partial, test_size=0.2, random_state = 42)\n",
    "\n",
    "print(\"Partial data: \")\n",
    "print(\"x_train_bow_p shape for BOW {} , x_test_bow_p shape for BOW {} \".format(x_train_bow_p.shape, x_test_bow_p.shape))\n",
    "print(\"y_train_label_bow_p shape for BOW {} , y_test_label_bow_p shape for BOW {} \".format(y_train_label_bow_p.shape, y_test_label_bow_p.shape))"
   ]
  },
  {
   "cell_type": "code",
   "execution_count": 10,
   "id": "623f1475",
   "metadata": {},
   "outputs": [],
   "source": [
    "from nltk.corpus import stopwords\n",
    "\n",
    "stop_words = stopwords.words('english')\n",
    "stop_words.remove('not')\n",
    "stop_words.extend(['rt', 'mkr', 'httpâ', 'tvwâ', 'etc'])"
   ]
  },
  {
   "cell_type": "code",
   "execution_count": 11,
   "id": "35dec208",
   "metadata": {},
   "outputs": [
    {
     "name": "stdout",
     "output_type": "stream",
     "text": [
      "Bag of Words……\n"
     ]
    }
   ],
   "source": [
    "# for creating train data (bow_x_train) and test data (bow_x_test)\n",
    "# base performance \n",
    "\n",
    "print(\"Bag of Words……\")\n",
    "\n",
    "from sklearn.feature_extraction.text import CountVectorizer\n",
    "\n",
    "my_stopWords = stop_words\n",
    "count_vectorizer = CountVectorizer(stop_words= my_stopWords)\n",
    "bow_vector_p = count_vectorizer.fit(x_train_bow_p)\n",
    "bow_x_train_p = count_vectorizer.transform(x_train_bow_p)\n",
    "\n",
    "bow_x_test_p = count_vectorizer.transform(x_test_bow_p)"
   ]
  },
  {
   "cell_type": "markdown",
   "id": "67c00c8d",
   "metadata": {},
   "source": [
    "#### Split data for Bag of Words (full data)"
   ]
  },
  {
   "cell_type": "code",
   "execution_count": 12,
   "id": "03786021",
   "metadata": {},
   "outputs": [
    {
     "name": "stdout",
     "output_type": "stream",
     "text": [
      "Full data: \n",
      "x_train_bow shape for BOW (27878,) , x_test_bow shape for BOW (6970,) \n",
      "y_train_bow shape for BOW (27878,) , y_test_bow shape for BOW (6970,) \n"
     ]
    }
   ],
   "source": [
    "# split data for bow \n",
    "\n",
    "x_train_bow, x_test_bow, y_train_label_bow, y_test_label_bow = train_test_split(x, y, test_size=0.2, random_state = 42)\n",
    "\n",
    "print(\"Full data: \")\n",
    "print(\"x_train_bow shape for BOW {} , x_test_bow shape for BOW {} \".format(x_train_bow.shape, x_test_bow.shape))\n",
    "print(\"y_train_bow shape for BOW {} , y_test_bow shape for BOW {} \".format(y_train_label_bow.shape, y_test_label_bow.shape))"
   ]
  },
  {
   "cell_type": "code",
   "execution_count": 13,
   "id": "91d124f1",
   "metadata": {},
   "outputs": [],
   "source": [
    "from nltk.corpus import stopwords\n",
    "\n",
    "stop_words = stopwords.words('english')\n",
    "stop_words.remove('not')\n",
    "stop_words.extend(['rt', 'mkr', 'httpâ', 'tvwâ', 'etc'])"
   ]
  },
  {
   "cell_type": "code",
   "execution_count": 14,
   "id": "7f0c4e79",
   "metadata": {},
   "outputs": [
    {
     "name": "stdout",
     "output_type": "stream",
     "text": [
      "Bag of Words……\n"
     ]
    }
   ],
   "source": [
    "# for creating train data (bow_x_train) and test data (bow_x_test)\n",
    "# base performance \n",
    "# will use pipeline to find the best parameters of bow when a suitable algorithm is selected\n",
    "\n",
    "print(\"Bag of Words……\")\n",
    "\n",
    "from sklearn.feature_extraction.text import CountVectorizer\n",
    "\n",
    "my_stopWords = stop_words\n",
    "count_vectorizer = CountVectorizer(stop_words= my_stopWords)\n",
    "bow_vector = count_vectorizer.fit(x_train_bow)\n",
    "bow_x_train = count_vectorizer.transform(x_train_bow)\n",
    "\n",
    "bow_x_test = count_vectorizer.transform(x_test_bow)"
   ]
  },
  {
   "cell_type": "markdown",
   "id": "e3c560a0",
   "metadata": {},
   "source": [
    "#### All models (Bag of Words)"
   ]
  },
  {
   "cell_type": "markdown",
   "id": "95e261d3",
   "metadata": {},
   "source": [
    "#### Train the model "
   ]
  },
  {
   "cell_type": "code",
   "execution_count": 144,
   "id": "b94687a4",
   "metadata": {},
   "outputs": [],
   "source": [
    "# just use kfold since it has balanced target classes\n",
    "# set the settings for machine learning algorithm as default first, \n",
    "# then pick the 2 best algorithm that has the highest accuracy, high recall for positive class and f1 -score\n",
    "\n",
    "# to do kfold validation\n",
    "from sklearn import model_selection\n",
    "from sklearn.naive_bayes import MultinomialNB\n",
    "from sklearn import svm\n",
    "from sklearn.tree import DecisionTreeClassifier\n",
    "from sklearn.ensemble import RandomForestClassifier\n",
    "from sklearn.metrics import make_scorer, accuracy_score, precision_score, recall_score, f1_score\n",
    "\n",
    "# to evaluate the results of the models\n",
    "from sklearn import metrics\n",
    "import seaborn as sns\n",
    "from sklearn.metrics import confusion_matrix\n",
    "from sklearn.metrics import classification_report\n",
    "from sklearn.metrics import accuracy_score\n",
    "from sklearn.model_selection import cross_val_predict\n",
    "\n",
    "# to find the best parameter\n",
    "from sklearn.model_selection import GridSearchCV\n",
    "from sklearn.pipeline import Pipeline\n",
    "from sklearn.compose import ColumnTransformer\n",
    "from sklearn import set_config\n",
    "\n",
    "# prepare configuration for cross validation test harness\n",
    "seed = 7\n",
    "\n",
    "# prepare models\n",
    "models = []\n",
    "models.append(('MNB', MultinomialNB()))\n",
    "models.append(('SVM', svm.SVC(random_state = 42, probability=True)))\n",
    "models.append(('DTC', DecisionTreeClassifier(splitter='random', random_state=42)))\n",
    "models.append(('RFC', RandomForestClassifier(random_state = 42)))\n",
    "\n",
    "\n",
    "results = []\n",
    "names = []\n",
    "scoring = {'accuracy' : make_scorer(accuracy_score), \n",
    "           'precision' : make_scorer(precision_score),\n",
    "           'recall' : make_scorer(recall_score), \n",
    "           'f1_score' : make_scorer(f1_score)}\n"
   ]
  },
  {
   "cell_type": "code",
   "execution_count": 16,
   "id": "133d9383",
   "metadata": {},
   "outputs": [
    {
     "name": "stdout",
     "output_type": "stream",
     "text": [
      "Validation Accuracy\n",
      "MNB: 0.803788 (0.008592)\n",
      "\n",
      "\n",
      "Validation Precision\n",
      "MNB: 0.784746 (0.013100)\n",
      "\n",
      "\n",
      "Validation Recall\n",
      "MNB: 0.805632 (0.017482)\n",
      "\n",
      "\n",
      "Validation F1 Score\n",
      "MNB: 0.794913 (0.011145)\n",
      "\n",
      "\n",
      "\n",
      "\n",
      "Validation Accuracy\n",
      "SVM: 0.880766 (0.011660)\n",
      "\n",
      "\n",
      "Validation Precision\n",
      "SVM: 0.907295 (0.013680)\n",
      "\n",
      "\n",
      "Validation Recall\n",
      "SVM: 0.832707 (0.020216)\n",
      "\n",
      "\n",
      "Validation F1 Score\n",
      "SVM: 0.868263 (0.013794)\n",
      "\n",
      "\n",
      "\n",
      "\n",
      "Validation Accuracy\n",
      "DTC: 0.853003 (0.010048)\n",
      "\n",
      "\n",
      "Validation Precision\n",
      "DTC: 0.841363 (0.018510)\n",
      "\n",
      "\n",
      "Validation Recall\n",
      "DTC: 0.849026 (0.012950)\n",
      "\n",
      "\n",
      "Validation F1 Score\n",
      "DTC: 0.845033 (0.011615)\n",
      "\n",
      "\n",
      "\n",
      "\n",
      "Validation Accuracy\n",
      "RFC: 0.868211 (0.008806)\n",
      "\n",
      "\n",
      "Validation Precision\n",
      "RFC: 0.882343 (0.013964)\n",
      "\n",
      "\n",
      "Validation Recall\n",
      "RFC: 0.832087 (0.014974)\n",
      "\n",
      "\n",
      "Validation F1 Score\n",
      "RFC: 0.856352 (0.010239)\n",
      "\n",
      "\n",
      "\n",
      "\n"
     ]
    }
   ],
   "source": [
    "# perform 10 kfold validation on validation set \n",
    "# use partial data because full data takes a long time to do it \n",
    "\n",
    "for name, model in models:\n",
    "    kfold = model_selection.KFold(n_splits=10, random_state=seed, shuffle=True)\n",
    "    cv_results = model_selection.cross_validate(model, bow_x_train_p, y_train_label_bow_p, scoring=scoring, cv=kfold)\n",
    "    \n",
    "    results.append(cv_results)\n",
    "    names.append(name)\n",
    "    accuracy = \"%s: %f (%f)\" % (name, np.mean(cv_results['test_accuracy']), np.mean(cv_results['test_accuracy'].std()))\n",
    "    print(\"Validation Accuracy\")\n",
    "    print(accuracy)\n",
    "    print(\"\\n\")\n",
    "    \n",
    "    precision = \"%s: %f (%f)\" % (name, np.mean(cv_results['test_precision']), np.mean(cv_results['test_precision'].std()))\n",
    "    print(\"Validation Precision\")\n",
    "    print(precision)\n",
    "    print(\"\\n\")\n",
    "    \n",
    "    recall = \"%s: %f (%f)\" % (name, np.mean(cv_results['test_recall']), np.mean(cv_results['test_recall'].std()))\n",
    "    print(\"Validation Recall\")\n",
    "    print(recall)\n",
    "    print(\"\\n\")\n",
    "    \n",
    "    recall = \"%s: %f (%f)\" % (name, np.mean(cv_results['test_f1_score']), np.mean(cv_results['test_f1_score'].std()))\n",
    "    print(\"Validation F1 Score\")\n",
    "    print(recall)\n",
    "    \n",
    "    print(\"\\n\")\n",
    "    print(\"\\n\")"
   ]
  },
  {
   "cell_type": "code",
   "execution_count": 17,
   "id": "ceda80e1",
   "metadata": {},
   "outputs": [
    {
     "name": "stdout",
     "output_type": "stream",
     "text": [
      "MNB\n"
     ]
    },
    {
     "data": {
      "image/png": "[encoded data removed]",
      "text/plain": [
       "<Figure size 432x288 with 2 Axes>"
      ]
     },
     "metadata": {
      "needs_background": "light"
     },
     "output_type": "display_data"
    },
    {
     "name": "stdout",
     "output_type": "stream",
     "text": [
      "SVM\n"
     ]
    },
    {
     "data": {
      "image/png": "[encoded data removed]",
      "text/plain": [
       "<Figure size 432x288 with 2 Axes>"
      ]
     },
     "metadata": {
      "needs_background": "light"
     },
     "output_type": "display_data"
    },
    {
     "name": "stdout",
     "output_type": "stream",
     "text": [
      "DTC\n"
     ]
    },
    {
     "data": {
      "image/png": "[encoded data removed]",
      "text/plain": [
       "<Figure size 432x288 with 2 Axes>"
      ]
     },
     "metadata": {
      "needs_background": "light"
     },
     "output_type": "display_data"
    },
    {
     "name": "stdout",
     "output_type": "stream",
     "text": [
      "RFC\n"
     ]
    },
    {
     "data": {
      "image/png": "[encoded data removed]",
      "text/plain": [
       "<Figure size 432x288 with 2 Axes>"
      ]
     },
     "metadata": {
      "needs_background": "light"
     },
     "output_type": "display_data"
    }
   ],
   "source": [
    "# plot the confusion matrix for 2 best\n",
    "# see which one has lesser false negative\n",
    "\n",
    "# 1 - cyberbullying \n",
    "# 0 - non-cyberbullying\n",
    "\n",
    "# TP (11) - cyberbullying class\n",
    "# TN (00) - non-cyberbullying class\n",
    "\n",
    "for name, model in models:\n",
    "    model.fit(bow_x_train_p, y_train_label_bow_p)\n",
    "    model_predicted = model.predict(bow_x_test_p)\n",
    "    cm = confusion_matrix(y_test_label_bow_p, model_predicted)\n",
    "    print(name)\n",
    "    sns.heatmap(cm, annot=True, fmt = '.2f')\n",
    "    plt.title('Confusion Matrix')\n",
    "    plt.ylabel('Actual Values')\n",
    "    plt.xlabel('Predicted Values')\n",
    "    plt.show()"
   ]
  },
  {
   "cell_type": "markdown",
   "id": "4bf15079",
   "metadata": {},
   "source": [
    "#### Train the model again after choosing the algorithm"
   ]
  },
  {
   "cell_type": "code",
   "execution_count": 18,
   "id": "8928711d",
   "metadata": {
    "scrolled": false
   },
   "outputs": [
    {
     "name": "stdout",
     "output_type": "stream",
     "text": [
      "Support Vector Machine\n",
      "0.9097560975609756\n",
      "              precision    recall  f1-score   support\n",
      "\n",
      "           0       0.88      0.93      0.91      3245\n",
      "           1       0.94      0.89      0.91      3725\n",
      "\n",
      "    accuracy                           0.91      6970\n",
      "   macro avg       0.91      0.91      0.91      6970\n",
      "weighted avg       0.91      0.91      0.91      6970\n",
      "\n"
     ]
    },
    {
     "data": {
      "image/png": "[encoded data removed]",
      "text/plain": [
       "<Figure size 432x288 with 2 Axes>"
      ]
     },
     "metadata": {
      "needs_background": "light"
     },
     "output_type": "display_data"
    }
   ],
   "source": [
    "# SVM and RFC was compared and it shows that SVM has lesser FN and higher TP\n",
    "# SVM chosen as final machine learning algorithm\n",
    "# retrain the SVM model again to set it as base model because it has lesser false negatives \n",
    "# results: classification report, accuracy score, confusion matrix\n",
    "\n",
    "base_model = svm.SVC(random_state = 42, probability=True)\n",
    "base_model = sklearn.base.clone(base_model)\n",
    "\n",
    "base_model.fit(bow_x_train, y_train_label_bow)\n",
    "base_model_predicted = base_model.predict(bow_x_test)\n",
    "print(\"Support Vector Machine\")\n",
    "print(accuracy_score(y_test_label_bow, base_model_predicted))\n",
    "print(classification_report(y_test_label_bow, base_model_predicted))\n",
    "\n",
    "base_cm = confusion_matrix(y_test_label_bow, base_model_predicted)\n",
    "sns.heatmap(base_cm, annot=True, fmt = '.2f')\n",
    "plt.title('Confusion Matrix')\n",
    "plt.ylabel('Actual Values')\n",
    "plt.xlabel('Predicted Values')\n",
    "plt.show()"
   ]
  },
  {
   "cell_type": "code",
   "execution_count": 161,
   "id": "8bbc3da3",
   "metadata": {},
   "outputs": [
    {
     "data": {
      "text/plain": [
       "array([-1.57773608, -1.30990364,  0.49250121, ..., -0.29690581,\n",
       "       -0.2624392 , -0.30598664])"
      ]
     },
     "execution_count": 161,
     "metadata": {},
     "output_type": "execute_result"
    }
   ],
   "source": [
    "# Precision vs Recall Graph of Base Model\n",
    "\n",
    "# retrieve the average cross-validated prediction score values for all samples \n",
    "base_model_bow_score_cv = cross_val_predict(base_model, bow_x_test, y_test_label_bow, cv = 3, method = \"decision_function\")\n",
    "base_model_bow_score_cv"
   ]
  },
  {
   "cell_type": "code",
   "execution_count": 182,
   "id": "803ff5b2",
   "metadata": {},
   "outputs": [
    {
     "data": {
      "text/plain": [
       "<Figure size 432x288 with 0 Axes>"
      ]
     },
     "metadata": {},
     "output_type": "display_data"
    },
    {
     "data": {
      "text/plain": [
       "<Figure size 576x432 with 0 Axes>"
      ]
     },
     "metadata": {},
     "output_type": "display_data"
    },
    {
     "data": {
      "text/plain": [
       "<matplotlib.legend.Legend at 0x25fa68d7550>"
      ]
     },
     "execution_count": 182,
     "metadata": {},
     "output_type": "execute_result"
    },
    {
     "data": {
      "image/png": "[encoded data removed]",
      "text/plain": [
       "<Figure size 432x288 with 1 Axes>"
      ]
     },
     "metadata": {
      "needs_background": "light"
     },
     "output_type": "display_data"
    }
   ],
   "source": [
    "from sklearn.metrics import precision_recall_curve\n",
    "\n",
    "plt.figure(0).clf()\n",
    "\n",
    "base_model_bow_precision, base_model_bow_recall, base_model_bow_threhold = precision_recall_curve(\n",
    "                                                                            y_test_label_bow, base_model_bow_score_cv)\n",
    "\n",
    "precision_base = round(np.mean(base_model_bow_precision),4)\n",
    "recall_base = round(np.mean(base_model_bow_recall),4)\n",
    "threshold_base = round(np.mean(base_model_bow_threhold),4)\n",
    "\n",
    "plt.figure(figsize=(8, 6))\n",
    "plt.show()\n",
    "plt.plot(base_model_bow_precision, base_model_bow_recall ,\n",
    "         label=\"Base Model (SVM + BOW), Precision= {} , Recall= {}\".format(str(precision_base), str(recall_base)))\n",
    "plt.legend()"
   ]
  },
  {
   "cell_type": "code",
   "execution_count": 183,
   "id": "467500f4",
   "metadata": {},
   "outputs": [
    {
     "name": "stdout",
     "output_type": "stream",
     "text": [
      "0.1202\n"
     ]
    }
   ],
   "source": [
    "# threshold of base model\n",
    "print(threshold_base)"
   ]
  },
  {
   "cell_type": "code",
   "execution_count": 190,
   "id": "73063edc",
   "metadata": {},
   "outputs": [
    {
     "name": "stdout",
     "output_type": "stream",
     "text": [
      "Kappa score for base model (BOW) :  0.8194\n",
      "MCC score for base model (BOW) :  0.8207\n"
     ]
    }
   ],
   "source": [
    "# calculate Cohen Kappa score and Matthews Correlation Coefficient (MCC)\n",
    "\n",
    "from sklearn.metrics import cohen_kappa_score\n",
    "ckappa_score_base_bow = cohen_kappa_score(y_test_label_bow, base_model_predicted)\n",
    "print(\"Kappa score for base model (BOW) : \", round(ckappa_score_base_bow, 4))\n",
    "\n",
    "from sklearn.metrics import matthews_corrcoef\n",
    "mcc_score_base_bow = matthews_corrcoef(y_test_label_bow, base_model_predicted)\n",
    "print(\"MCC score for base model (BOW) : \", round(mcc_score_base_bow,4))"
   ]
  },
  {
   "cell_type": "code",
   "execution_count": 20,
   "id": "9d361aec",
   "metadata": {
    "scrolled": true
   },
   "outputs": [
    {
     "name": "stdout",
     "output_type": "stream",
     "text": [
      "Fitting 5 folds for each of 6 candidates, totalling 30 fits\n",
      "[CV 1/5] END ..........................C=0.01, kernel=linear; total time=  52.1s\n",
      "[CV 2/5] END ..........................C=0.01, kernel=linear; total time=  50.6s\n",
      "[CV 3/5] END ..........................C=0.01, kernel=linear; total time=  51.1s\n",
      "[CV 4/5] END ..........................C=0.01, kernel=linear; total time=  52.9s\n",
      "[CV 5/5] END ..........................C=0.01, kernel=linear; total time=  51.5s\n",
      "[CV 1/5] END ...........................C=0.1, kernel=linear; total time= 1.2min\n",
      "[CV 2/5] END ...........................C=0.1, kernel=linear; total time= 1.0min\n",
      "[CV 3/5] END ...........................C=0.1, kernel=linear; total time= 1.0min\n",
      "[CV 4/5] END ...........................C=0.1, kernel=linear; total time= 1.2min\n",
      "[CV 5/5] END ...........................C=0.1, kernel=linear; total time= 1.1min\n",
      "[CV 1/5] END .............................C=1, kernel=linear; total time= 1.7min\n",
      "[CV 2/5] END .............................C=1, kernel=linear; total time= 2.0min\n",
      "[CV 3/5] END .............................C=1, kernel=linear; total time= 2.0min\n",
      "[CV 4/5] END .............................C=1, kernel=linear; total time= 2.0min\n",
      "[CV 5/5] END .............................C=1, kernel=linear; total time= 1.7min\n",
      "[CV 1/5] END ............................C=10, kernel=linear; total time= 2.3min\n",
      "[CV 2/5] END ............................C=10, kernel=linear; total time= 2.3min\n",
      "[CV 3/5] END ............................C=10, kernel=linear; total time= 2.2min\n",
      "[CV 4/5] END ............................C=10, kernel=linear; total time= 2.3min\n",
      "[CV 5/5] END ............................C=10, kernel=linear; total time= 2.2min\n",
      "[CV 1/5] END ...........................C=100, kernel=linear; total time= 2.6min\n",
      "[CV 2/5] END ...........................C=100, kernel=linear; total time= 2.5min\n",
      "[CV 3/5] END ...........................C=100, kernel=linear; total time= 2.3min\n",
      "[CV 4/5] END ...........................C=100, kernel=linear; total time= 2.3min\n",
      "[CV 5/5] END ...........................C=100, kernel=linear; total time= 2.4min\n",
      "[CV 1/5] END ..........................C=1000, kernel=linear; total time= 2.4min\n",
      "[CV 2/5] END ..........................C=1000, kernel=linear; total time= 2.4min\n",
      "[CV 3/5] END ..........................C=1000, kernel=linear; total time= 2.3min\n",
      "[CV 4/5] END ..........................C=1000, kernel=linear; total time= 2.5min\n",
      "[CV 5/5] END ..........................C=1000, kernel=linear; total time= 2.4min\n"
     ]
    },
    {
     "data": {
      "text/plain": [
       "GridSearchCV(estimator=SVC(),\n",
       "             param_grid={'C': [0.01, 0.1, 1, 10, 100, 1000],\n",
       "                         'kernel': ['linear']},\n",
       "             verbose=3)"
      ]
     },
     "execution_count": 20,
     "metadata": {},
     "output_type": "execute_result"
    }
   ],
   "source": [
    "# need to fine tune the base model to get better results \n",
    "# by adjusting the regularization C value, it can be seen it improves the accuracy of the model\n",
    "# using grid search to find the best parameter for SVM\n",
    "  \n",
    "# set the range for parameters\n",
    "parameter_gs_bow = {'C': [0.01, 0.1, 1, 10, 100, 1000], \n",
    "              'kernel': ['linear']} \n",
    "  \n",
    "gs_bow = GridSearchCV(svm.SVC(), parameter_gs_bow, refit = True, verbose = 3)\n",
    "  \n",
    "# fitting the model for grid search\n",
    "gs_bow.fit(bow_x_train, y_train_label_bow)\n"
   ]
  },
  {
   "cell_type": "code",
   "execution_count": 21,
   "id": "5254aea5",
   "metadata": {},
   "outputs": [
    {
     "name": "stdout",
     "output_type": "stream",
     "text": [
      "{'C': 0.1, 'kernel': 'linear'}\n",
      "SVC(C=0.1, kernel='linear')\n"
     ]
    }
   ],
   "source": [
    "# print best parameter after tuning\n",
    "print(gs_bow.best_params_)\n",
    "  \n",
    "# print how our model looks after hyper-parameter tuning\n",
    "print(gs_bow.best_estimator_)"
   ]
  },
  {
   "cell_type": "code",
   "execution_count": 123,
   "id": "d3f73c20",
   "metadata": {},
   "outputs": [
    {
     "name": "stdout",
     "output_type": "stream",
     "text": [
      "              precision    recall  f1-score   support\n",
      "\n",
      "           0       0.91      0.94      0.92      3245\n",
      "           1       0.94      0.92      0.93      3725\n",
      "\n",
      "    accuracy                           0.93      6970\n",
      "   macro avg       0.93      0.93      0.93      6970\n",
      "weighted avg       0.93      0.93      0.93      6970\n",
      "\n"
     ]
    },
    {
     "data": {
      "image/png": "[encoded data removed]",
      "text/plain": [
       "<Figure size 432x288 with 2 Axes>"
      ]
     },
     "metadata": {
      "needs_background": "light"
     },
     "output_type": "display_data"
    }
   ],
   "source": [
    "# grid search model (BOW)\n",
    "predictions_gs_bow = gs_bow.predict(bow_x_test)\n",
    "\n",
    "# print classification report\n",
    "print(classification_report(y_test_label_bow, predictions_gs_bow))\n",
    "\n",
    "# print confusion matrix\n",
    "gs_cm_bow = confusion_matrix(y_test_label_bow, predictions_gs_bow)\n",
    "sns.heatmap(gs_cm_bow, annot=True, fmt = '.2f')\n",
    "plt.title('Confusion Matrix for Grid Search (BOW)')\n",
    "plt.ylabel('Actual Values')\n",
    "plt.xlabel('Predicted Values')\n",
    "plt.show()"
   ]
  },
  {
   "cell_type": "code",
   "execution_count": 126,
   "id": "25ae9b3f",
   "metadata": {},
   "outputs": [
    {
     "name": "stdout",
     "output_type": "stream",
     "text": [
      "              precision    recall  f1-score   support\n",
      "\n",
      "           0       0.88      0.93      0.91      3245\n",
      "           1       0.94      0.89      0.91      3725\n",
      "\n",
      "    accuracy                           0.91      6970\n",
      "   macro avg       0.91      0.91      0.91      6970\n",
      "weighted avg       0.91      0.91      0.91      6970\n",
      "\n"
     ]
    },
    {
     "data": {
      "image/png": "[encoded data removed]",
      "text/plain": [
       "<Figure size 432x288 with 2 Axes>"
      ]
     },
     "metadata": {
      "needs_background": "light"
     },
     "output_type": "display_data"
    }
   ],
   "source": [
    "# baseline model (BOW)\n",
    "\n",
    "# print classification report\n",
    "print(classification_report(y_test_label_bow, base_model_predicted))\n",
    "\n",
    "# print confusion matrix \n",
    "sns.heatmap(base_cm, annot=True, fmt = '.2f')\n",
    "plt.title('Confusion Matrix for Base Model (BOW)')\n",
    "plt.ylabel('Actual Values')\n",
    "plt.xlabel('Predicted Values')\n",
    "plt.show()"
   ]
  },
  {
   "cell_type": "markdown",
   "id": "7aedb602",
   "metadata": {},
   "source": [
    "#### TFIDF (to see if it is better than bow)"
   ]
  },
  {
   "cell_type": "code",
   "execution_count": 23,
   "id": "5d1b71dc",
   "metadata": {},
   "outputs": [
    {
     "name": "stdout",
     "output_type": "stream",
     "text": [
      "x_train_tfidf shape for TFIDF (27878,) , x_test_tfidf shape for TFIDF (6970,) \n",
      "y_train_tfidf shape for TFIDF (27878,) , y_test_tfidf shape for TFIDF (6970,) \n"
     ]
    }
   ],
   "source": [
    "# split data for tfidf (full data)\n",
    "# no need to train with 10 fold because the machine learning algorithm is chosen\n",
    "\n",
    "x_train_tfidf, x_test_tfidf, y_train_label_tfidf, y_test_label_tfidf = train_test_split(x, y, test_size=0.2, random_state = 42)\n",
    "\n",
    "print(\"x_train_tfidf shape for TFIDF {} , x_test_tfidf shape for TFIDF {} \".format(x_train_tfidf.shape, x_test_tfidf.shape))\n",
    "print(\"y_train_tfidf shape for TFIDF {} , y_test_tfidf shape for TFIDF {} \".format(y_train_label_tfidf.shape, y_test_label_tfidf.shape))"
   ]
  },
  {
   "cell_type": "code",
   "execution_count": 24,
   "id": "2c934ba9",
   "metadata": {},
   "outputs": [
    {
     "name": "stdout",
     "output_type": "stream",
     "text": [
      "TFIDF Vectorizer……\n"
     ]
    }
   ],
   "source": [
    "# default settings \n",
    "\n",
    "print(\"TFIDF Vectorizer……\")\n",
    "\n",
    "from sklearn.feature_extraction.text import TfidfVectorizer\n",
    "\n",
    "vectorizer= TfidfVectorizer()\n",
    "tf_train_vector = vectorizer.fit(x_train_tfidf)\n",
    "tf_x_train = vectorizer.transform(x_train_tfidf)\n",
    "\n",
    "tf_x_test = vectorizer.transform(x_test_tfidf)"
   ]
  },
  {
   "cell_type": "code",
   "execution_count": 119,
   "id": "0f080b05",
   "metadata": {},
   "outputs": [],
   "source": [
    "# retrain the SVM model again to set it as base model for tfidf\n",
    "# results: classification report, accuracy score, confusion matrix\n",
    "\n",
    "base_model_tfidf = svm.SVC(random_state = 42, probability=True)\n",
    "base_model_tfidf = sklearn.base.clone(base_model_tfidf)\n",
    "\n",
    "base_model_tfidf.fit(tf_x_train, y_train_label_tfidf)\n",
    "base_model_predicted_tfidf = base_model_tfidf.predict(tf_x_test)"
   ]
  },
  {
   "cell_type": "code",
   "execution_count": 118,
   "id": "40023e2a",
   "metadata": {},
   "outputs": [
    {
     "name": "stdout",
     "output_type": "stream",
     "text": [
      "Support Vector Machine\n",
      "0.9164992826398852\n",
      "              precision    recall  f1-score   support\n",
      "\n",
      "           0       0.89      0.94      0.91      3245\n",
      "           1       0.94      0.90      0.92      3725\n",
      "\n",
      "    accuracy                           0.92      6970\n",
      "   macro avg       0.92      0.92      0.92      6970\n",
      "weighted avg       0.92      0.92      0.92      6970\n",
      "\n"
     ]
    },
    {
     "data": {
      "image/png": "[encoded data removed]",
      "text/plain": [
       "<Figure size 432x288 with 2 Axes>"
      ]
     },
     "metadata": {
      "needs_background": "light"
     },
     "output_type": "display_data"
    }
   ],
   "source": [
    "print(\"Support Vector Machine\")\n",
    "print(accuracy_score(y_test_label_tfidf, base_model_predicted_tfidf))\n",
    "print(classification_report(y_test_label_tfidf, base_model_predicted_tfidf))\n",
    "\n",
    "base_cm_tfidf = confusion_matrix(y_test_label_tfidf, base_model_predicted_tfidf)\n",
    "sns.heatmap(base_cm_tfidf, annot=True, fmt = '.2f')\n",
    "plt.title('Confusion Matrix')\n",
    "plt.ylabel('Actual Values')\n",
    "plt.xlabel('Predicted Values')\n",
    "plt.show()"
   ]
  },
  {
   "cell_type": "code",
   "execution_count": 112,
   "id": "6fb3d818",
   "metadata": {},
   "outputs": [
    {
     "name": "stdout",
     "output_type": "stream",
     "text": [
      "Fitting 5 folds for each of 6 candidates, totalling 30 fits\n",
      "[CV 1/5] END ..........................C=0.01, kernel=linear; total time= 1.5min\n",
      "[CV 2/5] END ..........................C=0.01, kernel=linear; total time= 1.5min\n",
      "[CV 3/5] END ..........................C=0.01, kernel=linear; total time= 1.5min\n",
      "[CV 4/5] END ..........................C=0.01, kernel=linear; total time= 1.5min\n",
      "[CV 5/5] END ..........................C=0.01, kernel=linear; total time= 1.4min\n",
      "[CV 1/5] END ...........................C=0.1, kernel=linear; total time= 1.1min\n",
      "[CV 2/5] END ...........................C=0.1, kernel=linear; total time= 1.1min\n",
      "[CV 3/5] END ...........................C=0.1, kernel=linear; total time= 1.1min\n",
      "[CV 4/5] END ...........................C=0.1, kernel=linear; total time= 1.1min\n",
      "[CV 5/5] END ...........................C=0.1, kernel=linear; total time= 1.1min\n",
      "[CV 1/5] END .............................C=1, kernel=linear; total time= 1.6min\n",
      "[CV 2/5] END .............................C=1, kernel=linear; total time= 1.3min\n",
      "[CV 3/5] END .............................C=1, kernel=linear; total time= 1.6min\n",
      "[CV 4/5] END .............................C=1, kernel=linear; total time= 1.3min\n",
      "[CV 5/5] END .............................C=1, kernel=linear; total time= 1.3min\n",
      "[CV 1/5] END ............................C=10, kernel=linear; total time= 2.1min\n",
      "[CV 2/5] END ............................C=10, kernel=linear; total time= 2.5min\n",
      "[CV 3/5] END ............................C=10, kernel=linear; total time= 2.1min\n",
      "[CV 4/5] END ............................C=10, kernel=linear; total time= 2.0min\n",
      "[CV 5/5] END ............................C=10, kernel=linear; total time= 2.1min\n",
      "[CV 1/5] END ...........................C=100, kernel=linear; total time= 2.6min\n",
      "[CV 2/5] END ...........................C=100, kernel=linear; total time= 2.5min\n",
      "[CV 3/5] END ...........................C=100, kernel=linear; total time= 2.0min\n",
      "[CV 4/5] END ...........................C=100, kernel=linear; total time= 2.5min\n",
      "[CV 5/5] END ...........................C=100, kernel=linear; total time= 2.0min\n",
      "[CV 1/5] END ..........................C=1000, kernel=linear; total time= 2.5min\n",
      "[CV 2/5] END ..........................C=1000, kernel=linear; total time= 2.5min\n",
      "[CV 3/5] END ..........................C=1000, kernel=linear; total time= 2.4min\n",
      "[CV 4/5] END ..........................C=1000, kernel=linear; total time= 2.4min\n",
      "[CV 5/5] END ..........................C=1000, kernel=linear; total time= 2.0min\n"
     ]
    },
    {
     "data": {
      "text/html": [
       "<style>div.sk-top-container {color: black;background-color: white;}div.sk-toggleable {background-color: white;}label.sk-toggleable__label {cursor: pointer;display: block;width: 100%;margin-bottom: 0;padding: 0.2em 0.3em;box-sizing: border-box;text-align: center;}div.sk-toggleable__content {max-height: 0;max-width: 0;overflow: hidden;text-align: left;background-color: #f0f8ff;}div.sk-toggleable__content pre {margin: 0.2em;color: black;border-radius: 0.25em;background-color: #f0f8ff;}input.sk-toggleable__control:checked~div.sk-toggleable__content {max-height: 200px;max-width: 100%;overflow: auto;}div.sk-estimator input.sk-toggleable__control:checked~label.sk-toggleable__label {background-color: #d4ebff;}div.sk-label input.sk-toggleable__control:checked~label.sk-toggleable__label {background-color: #d4ebff;}input.sk-hidden--visually {border: 0;clip: rect(1px 1px 1px 1px);clip: rect(1px, 1px, 1px, 1px);height: 1px;margin: -1px;overflow: hidden;padding: 0;position: absolute;width: 1px;}div.sk-estimator {font-family: monospace;background-color: #f0f8ff;margin: 0.25em 0.25em;border: 1px dotted black;border-radius: 0.25em;box-sizing: border-box;}div.sk-estimator:hover {background-color: #d4ebff;}div.sk-parallel-item::after {content: \"\";width: 100%;border-bottom: 1px solid gray;flex-grow: 1;}div.sk-label:hover label.sk-toggleable__label {background-color: #d4ebff;}div.sk-serial::before {content: \"\";position: absolute;border-left: 1px solid gray;box-sizing: border-box;top: 2em;bottom: 0;left: 50%;}div.sk-serial {display: flex;flex-direction: column;align-items: center;background-color: white;}div.sk-item {z-index: 1;}div.sk-parallel {display: flex;align-items: stretch;justify-content: center;background-color: white;}div.sk-parallel-item {display: flex;flex-direction: column;position: relative;background-color: white;}div.sk-parallel-item:first-child::after {align-self: flex-end;width: 50%;}div.sk-parallel-item:last-child::after {align-self: flex-start;width: 50%;}div.sk-parallel-item:only-child::after {width: 0;}div.sk-dashed-wrapped {border: 1px dashed gray;margin: 0.2em;box-sizing: border-box;padding-bottom: 0.1em;background-color: white;position: relative;}div.sk-label label {font-family: monospace;font-weight: bold;background-color: white;display: inline-block;line-height: 1.2em;}div.sk-label-container {position: relative;z-index: 2;text-align: center;}div.sk-container {display: inline-block;position: relative;}</style><div class=\"sk-top-container\"><div class=\"sk-container\"><div class=\"sk-item sk-dashed-wrapped\"><div class=\"sk-label-container\"><div class=\"sk-label sk-toggleable\"><input class=\"sk-toggleable__control sk-hidden--visually\" id=\"7e21c68f-f9a7-445e-96b2-30b73f6d1ff1\" type=\"checkbox\" ><label class=\"sk-toggleable__label\" for=\"7e21c68f-f9a7-445e-96b2-30b73f6d1ff1\">GridSearchCV</label><div class=\"sk-toggleable__content\"><pre>GridSearchCV(estimator=SVC(),\n",
       "             param_grid={'C': [0.01, 0.1, 1, 10, 100, 1000],\n",
       "                         'kernel': ['linear']},\n",
       "             verbose=3)</pre></div></div></div><div class=\"sk-parallel\"><div class=\"sk-parallel-item\"><div class=\"sk-item\"><div class=\"sk-serial\"><div class=\"sk-item\"><div class=\"sk-estimator sk-toggleable\"><input class=\"sk-toggleable__control sk-hidden--visually\" id=\"ad7e2849-5eee-48d3-9b94-ff3c3146a240\" type=\"checkbox\" ><label class=\"sk-toggleable__label\" for=\"ad7e2849-5eee-48d3-9b94-ff3c3146a240\">SVC</label><div class=\"sk-toggleable__content\"><pre>SVC()</pre></div></div></div></div></div></div></div></div></div></div>"
      ],
      "text/plain": [
       "GridSearchCV(estimator=SVC(),\n",
       "             param_grid={'C': [0.01, 0.1, 1, 10, 100, 1000],\n",
       "                         'kernel': ['linear']},\n",
       "             verbose=3)"
      ]
     },
     "execution_count": 112,
     "metadata": {},
     "output_type": "execute_result"
    }
   ],
   "source": [
    "# need to fine tune the base model to get better results \n",
    "# by adjusting the regularization C value, it can be seen it improves the accuracy of the model\n",
    "# using grid search to find the best parameter for SVM\n",
    "  \n",
    "# set the range for parameters\n",
    "parameter_gs_tfidf = {'C': [0.01, 0.1, 1, 10, 100, 1000], \n",
    "              'kernel': ['linear']} \n",
    "  \n",
    "gs_tfidf = GridSearchCV(svm.SVC(), parameter_gs_tfidf, refit = True, verbose = 3)\n",
    "  \n",
    "# fitting the model for grid search\n",
    "gs_tfidf.fit(tf_x_train, y_train_label_tfidf)"
   ]
  },
  {
   "cell_type": "code",
   "execution_count": 113,
   "id": "64453e83",
   "metadata": {},
   "outputs": [
    {
     "name": "stdout",
     "output_type": "stream",
     "text": [
      "{'C': 1, 'kernel': 'linear'}\n",
      "SVC(C=1, kernel='linear')\n"
     ]
    }
   ],
   "source": [
    "# print best parameter after tuning\n",
    "print(gs_tfidf.best_params_)\n",
    "  \n",
    "# print how our model looks after hyper-parameter tuning\n",
    "print(gs_tfidf.best_estimator_)"
   ]
  },
  {
   "cell_type": "code",
   "execution_count": 120,
   "id": "fa6bbcf8",
   "metadata": {},
   "outputs": [
    {
     "name": "stdout",
     "output_type": "stream",
     "text": [
      "              precision    recall  f1-score   support\n",
      "\n",
      "           0       0.91      0.93      0.92      3245\n",
      "           1       0.94      0.92      0.93      3725\n",
      "\n",
      "    accuracy                           0.92      6970\n",
      "   macro avg       0.92      0.93      0.92      6970\n",
      "weighted avg       0.93      0.92      0.92      6970\n",
      "\n"
     ]
    },
    {
     "data": {
      "image/png": "[encoded data removed]",
      "text/plain": [
       "<Figure size 432x288 with 2 Axes>"
      ]
     },
     "metadata": {
      "needs_background": "light"
     },
     "output_type": "display_data"
    }
   ],
   "source": [
    "# grid search model (TFIDF)\n",
    "predictions_gs_tfidf = gs_tfidf.predict(tf_x_test)\n",
    "  \n",
    "# print classification report\n",
    "print(classification_report(y_test_label_tfidf, predictions_gs_tfidf))\n",
    "\n",
    "# print confusion matrix\n",
    "gs_cm_tfidf = confusion_matrix(y_test_label_tfidf, predictions_gs_tfidf)\n",
    "sns.heatmap(gs_cm_tfidf, annot=True, fmt = '.2f')\n",
    "plt.title('Confusion Matrix for Grid Search Model (TFIDF)')\n",
    "plt.ylabel('Actual Values')\n",
    "plt.xlabel('Predicted Values')\n",
    "plt.show()"
   ]
  },
  {
   "cell_type": "code",
   "execution_count": 127,
   "id": "dffc9936",
   "metadata": {},
   "outputs": [
    {
     "name": "stdout",
     "output_type": "stream",
     "text": [
      "              precision    recall  f1-score   support\n",
      "\n",
      "           0       0.89      0.94      0.91      3245\n",
      "           1       0.94      0.90      0.92      3725\n",
      "\n",
      "    accuracy                           0.92      6970\n",
      "   macro avg       0.92      0.92      0.92      6970\n",
      "weighted avg       0.92      0.92      0.92      6970\n",
      "\n"
     ]
    },
    {
     "data": {
      "image/png": "[encoded data removed]",
      "text/plain": [
       "<Figure size 432x288 with 2 Axes>"
      ]
     },
     "metadata": {
      "needs_background": "light"
     },
     "output_type": "display_data"
    }
   ],
   "source": [
    "# baseline model (TFIDF)\n",
    "\n",
    "# print classification report\n",
    "print(classification_report(y_test_label_tfidf, base_model_predicted_tfidf))\n",
    "\n",
    "# print confusion matrix\n",
    "sns.heatmap(base_cm_tfidf, annot=True, fmt = '.2f')\n",
    "plt.title('Confusion Matrix for Base Model (TFIDF)')\n",
    "plt.ylabel('Actual Values')\n",
    "plt.xlabel('Predicted Values')\n",
    "plt.show()\n",
    "\n",
    "# final model has same accuracy, lower FN, higher TP\n",
    "# final model performed better than base model"
   ]
  },
  {
   "cell_type": "markdown",
   "id": "45f9eb48",
   "metadata": {},
   "source": [
    "#### Plot ROC Curve for models"
   ]
  },
  {
   "cell_type": "code",
   "execution_count": 128,
   "id": "47cfdba8",
   "metadata": {},
   "outputs": [
    {
     "data": {
      "text/plain": [
       "<matplotlib.legend.Legend at 0x25fa6947340>"
      ]
     },
     "execution_count": 128,
     "metadata": {},
     "output_type": "execute_result"
    },
    {
     "data": {
      "image/png": "[encoded data removed]",
      "text/plain": [
       "<Figure size 432x288 with 1 Axes>"
      ]
     },
     "metadata": {
      "needs_background": "light"
     },
     "output_type": "display_data"
    }
   ],
   "source": [
    "#set up plotting area\n",
    "plt.figure(0).clf()\n",
    "\n",
    "# plot ROC curve for Grid Search SVM Model(TFIDF)\n",
    "fpr_tfidf, tpr_tfidf, _ = metrics.roc_curve(y_test_label_tfidf, predictions_gs_tfidf)\n",
    "auc = round(metrics.roc_auc_score(y_test_label_tfidf, predictions_gs_tfidf), 4)\n",
    "plt.plot(fpr_tfidf,tpr_tfidf,label=\"Grid Search SVM Model (TFIDF), AUC=\"+str(auc))\n",
    "\n",
    "# plot ROC curve for Grid Search SVM Model(BOW)\n",
    "fpr_bow, tpr_bow, _ = metrics.roc_curve(y_test_label_bow, predictions_gs_bow)\n",
    "auc = round(metrics.roc_auc_score(y_test_label_bow, predictions_gs_bow), 4)\n",
    "plt.plot(fpr_bow,tpr_bow,label=\"Grid Search SVM Model (BOW), AUC=\"+str(auc))\n",
    "\n",
    "#add legend\n",
    "plt.legend()\n",
    "\n",
    "# svm with bow has higher AUC score than svm with tfidf so it means it is better at differentiating both classes"
   ]
  },
  {
   "cell_type": "markdown",
   "id": "dada055a",
   "metadata": {},
   "source": [
    "#### Build Final Model"
   ]
  },
  {
   "cell_type": "code",
   "execution_count": 152,
   "id": "b046c960",
   "metadata": {},
   "outputs": [
    {
     "name": "stdout",
     "output_type": "stream",
     "text": [
      "Bag of Words……\n"
     ]
    }
   ],
   "source": [
    "# BOW\n",
    "print(\"Bag of Words……\")\n",
    "\n",
    "from sklearn.feature_extraction.text import CountVectorizer\n",
    "\n",
    "my_stopWords = stop_words\n",
    "count_vectorizer = CountVectorizer(stop_words= my_stopWords)\n",
    "bow_vector_final = count_vectorizer.fit(x_train)\n",
    "bow_x_train_final = count_vectorizer.transform(x_train)\n",
    "\n",
    "bow_x_test_final = count_vectorizer.transform(x_test)"
   ]
  },
  {
   "cell_type": "code",
   "execution_count": 153,
   "id": "5f89a3a5",
   "metadata": {},
   "outputs": [],
   "source": [
    "# after evaluation, final model is chosen\n",
    "# rmb to write bow / tfidf for fit and predicted\n",
    "\n",
    "final_model = svm.SVC(C=0.1, kernel='linear', random_state = 42, probability=True)\n",
    "final_model = sklearn.base.clone(final_model)\n",
    "\n",
    "final_model.fit(bow_x_train_final, y_train_label)\n",
    "final_model_predicted = final_model.predict(bow_x_test_final)"
   ]
  },
  {
   "cell_type": "code",
   "execution_count": 154,
   "id": "e588c4d2",
   "metadata": {},
   "outputs": [
    {
     "name": "stdout",
     "output_type": "stream",
     "text": [
      "Support Vector Machine\n",
      "0.9261119081779053\n",
      "              precision    recall  f1-score   support\n",
      "\n",
      "           0       0.91      0.94      0.92      3245\n",
      "           1       0.94      0.92      0.93      3725\n",
      "\n",
      "    accuracy                           0.93      6970\n",
      "   macro avg       0.93      0.93      0.93      6970\n",
      "weighted avg       0.93      0.93      0.93      6970\n",
      "\n"
     ]
    },
    {
     "data": {
      "image/png": "[encoded data removed]",
      "text/plain": [
       "<Figure size 432x288 with 2 Axes>"
      ]
     },
     "metadata": {
      "needs_background": "light"
     },
     "output_type": "display_data"
    }
   ],
   "source": [
    "# print classification report\n",
    "print(\"Support Vector Machine\")\n",
    "print(accuracy_score(y_test_label, final_model_predicted))\n",
    "print(classification_report(y_test_label, final_model_predicted))\n",
    "\n",
    "# print confusion matrix \n",
    "final_cm = confusion_matrix(y_test_label, final_model_predicted)\n",
    "sns.heatmap(final_cm, annot=True, fmt = '.2f')\n",
    "plt.title('Confusion Matrix for Final Model (SVM + BOW)')\n",
    "plt.ylabel('Actual Values')\n",
    "plt.xlabel('Predicted Values')\n",
    "plt.show()"
   ]
  },
  {
   "cell_type": "markdown",
   "id": "37f7e639",
   "metadata": {},
   "source": [
    "#### Further Evaluation on the Final Model and Base Model"
   ]
  },
  {
   "cell_type": "code",
   "execution_count": 193,
   "id": "cd949e3c",
   "metadata": {},
   "outputs": [
    {
     "name": "stdout",
     "output_type": "stream",
     "text": [
      "Kappa score for base model :  0.8194\n",
      "Kappa score for final model :  0.8518\n",
      "\n",
      "\n",
      "MCC score for base model :  0.8207\n",
      "MCC score for final model :  0.8522\n"
     ]
    }
   ],
   "source": [
    "# calculate Cohen Kappa score and Matthews Correlation Coefficient (MCC)\n",
    "# since accuracy of model is high, so this was used to check if it is performing well \n",
    "# if value is close to 1, this classifier is performing well \n",
    "\n",
    "from sklearn.metrics import cohen_kappa_score\n",
    "ckappa_score = cohen_kappa_score(y_test_label, final_model_predicted)\n",
    "print(\"Kappa score for base model : \", round(ckappa_score_base_bow, 4))\n",
    "print(\"Kappa score for final model : \", round(ckappa_score,4))\n",
    "\n",
    "print('\\n')\n",
    "from sklearn.metrics import matthews_corrcoef\n",
    "mcc_score = matthews_corrcoef(y_test_label, final_model_predicted)\n",
    "print(\"MCC score for base model : \", round(mcc_score_base_bow,4))\n",
    "print(\"MCC score for final model : \", round(mcc_score,4))"
   ]
  },
  {
   "cell_type": "code",
   "execution_count": 164,
   "id": "9f5a3392",
   "metadata": {},
   "outputs": [
    {
     "data": {
      "text/plain": [
       "<matplotlib.legend.Legend at 0x25f96b41730>"
      ]
     },
     "execution_count": 164,
     "metadata": {},
     "output_type": "execute_result"
    },
    {
     "data": {
      "image/png": "[encoded data removed]",
      "text/plain": [
       "<Figure size 432x288 with 1 Axes>"
      ]
     },
     "metadata": {
      "needs_background": "light"
     },
     "output_type": "display_data"
    }
   ],
   "source": [
    "# plot ROC curve for Final Model(SVM + BOW) to compare with base model\n",
    "\n",
    "plt.figure(0).clf()\n",
    "fpr, tpr, _ = metrics.roc_curve(y_test_label, final_model_predicted)\n",
    "auc = round(metrics.roc_auc_score(y_test_label, final_model_predicted), 4)\n",
    "plt.plot(fpr,tpr,label=\"Final Model (SVM + BOW), AUC=\"+str(auc))\n",
    "\n",
    "fpr, tpr, _ = metrics.roc_curve(y_test_label_bow, base_model_predicted)\n",
    "auc = round(metrics.roc_auc_score(y_test_label_bow, base_model_predicted), 4)\n",
    "plt.plot(fpr,tpr,label=\"Base Model (SVM + BOW), AUC=\"+str(auc))\n",
    "\n",
    "plt.legend()\n",
    "\n",
    "# auc score of final model is better than base model "
   ]
  },
  {
   "cell_type": "code",
   "execution_count": 158,
   "id": "80ea2ea9",
   "metadata": {},
   "outputs": [
    {
     "data": {
      "text/plain": [
       "array([-1.30074433, -1.42144433,  0.72656642, ...,  0.01447615,\n",
       "       -0.45203581, -0.72255481])"
      ]
     },
     "execution_count": 158,
     "metadata": {},
     "output_type": "execute_result"
    }
   ],
   "source": [
    "# Precision vs Recall Graph for training data \n",
    "\n",
    "# retrieve the average cross-validated prediction score values for all samples \n",
    "final_model_score_cv = cross_val_predict(final_model, bow_x_test_final, y_test_label, cv = 3, method = \"decision_function\")\n",
    "final_model_score_cv"
   ]
  },
  {
   "cell_type": "code",
   "execution_count": 186,
   "id": "20be9f25",
   "metadata": {},
   "outputs": [
    {
     "data": {
      "text/plain": [
       "<Figure size 432x288 with 0 Axes>"
      ]
     },
     "metadata": {},
     "output_type": "display_data"
    },
    {
     "data": {
      "text/plain": [
       "<Figure size 576x432 with 0 Axes>"
      ]
     },
     "metadata": {},
     "output_type": "display_data"
    },
    {
     "data": {
      "text/plain": [
       "<matplotlib.legend.Legend at 0x25fad3c99d0>"
      ]
     },
     "execution_count": 186,
     "metadata": {},
     "output_type": "execute_result"
    },
    {
     "data": {
      "image/png": "[encoded data removed]",
      "text/plain": [
       "<Figure size 432x288 with 1 Axes>"
      ]
     },
     "metadata": {
      "needs_background": "light"
     },
     "output_type": "display_data"
    }
   ],
   "source": [
    "final_model_precision, final_model_recall, final_model_threhold = precision_recall_curve(\n",
    "                                                                            y_test_label, final_model_score_cv)\n",
    "\n",
    "precision = round(np.mean(final_model_precision),4)\n",
    "recall = round(np.mean(final_model_recall),4)\n",
    "threshold = round(np.mean(final_model_threhold),4)\n",
    "\n",
    "plt.figure(0).clf()\n",
    "plt.figure(figsize=(8, 6))\n",
    "plt.show()\n",
    "plt.plot(final_model_precision, final_model_recall ,\n",
    "         label=\"Final Model (SVM + BOW), Precision= {} , Recall= {}\".format(str(precision), str(recall)))\n",
    "\n",
    "plt.plot(base_model_bow_precision, base_model_bow_recall ,\n",
    "         label=\"Base Model (SVM + BOW), Precision= {} , Recall= {}\".format(str(precision_base), str(recall_base)))\n",
    "plt.legend()\n",
    "\n",
    "# final model has better precision and recall after fine tuning "
   ]
  },
  {
   "cell_type": "code",
   "execution_count": 185,
   "id": "aa082fa2",
   "metadata": {},
   "outputs": [
    {
     "name": "stdout",
     "output_type": "stream",
     "text": [
      "Threshold of Base Model:  0.1202\n",
      "Threshold of Final Model:  0.2373\n"
     ]
    }
   ],
   "source": [
    "# threshold value for models \n",
    "\n",
    "print(\"Threshold of Base Model: \",threshold_base)\n",
    "print(\"Threshold of Final Model: \", threshold)"
   ]
  }
 ],
 "metadata": {
  "kernelspec": {
   "display_name": "Python 3",
   "language": "python",
   "name": "python3"
  },
  "language_info": {
   "codemirror_mode": {
    "name": "ipython",
    "version": 3
   },
   "file_extension": ".py",
   "mimetype": "text/x-python",
   "name": "python",
   "nbconvert_exporter": "python",
   "pygments_lexer": "ipython3",
   "version": "3.8.8"
  }
 },
 "nbformat": 4,
 "nbformat_minor": 5
}
